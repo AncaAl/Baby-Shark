{
 "cells": [
  {
   "cell_type": "code",
   "execution_count": 70,
   "id": "dd3039e5",
   "metadata": {
    "colab": {
     "base_uri": "https://localhost:8080/"
    },
    "executionInfo": {
     "elapsed": 16441,
     "status": "ok",
     "timestamp": 1719325993605,
     "user": {
      "displayName": "Damla Helvaci",
      "userId": "07548812876669869985"
     },
     "user_tz": -120
    },
    "id": "dd3039e5",
    "outputId": "3049e5d0-800a-4eec-cceb-eddc801953b6"
   },
   "outputs": [
    {
     "name": "stdout",
     "output_type": "stream",
     "text": [
      "Requirement already satisfied: xlrd in /opt/anaconda3/lib/python3.11/site-packages (2.0.1)\n",
      "Note: you may need to restart the kernel to use updated packages.\n"
     ]
    }
   ],
   "source": [
    "pip install xlrd  #necessary to read the files in the personal Mac"
   ]
  },
  {
   "cell_type": "code",
   "execution_count": 71,
   "id": "1198bc9a-24d0-484d-95ee-425a291be4c5",
   "metadata": {},
   "outputs": [
    {
     "name": "stdout",
     "output_type": "stream",
     "text": [
      "Requirement already satisfied: thefuzz in /opt/anaconda3/lib/python3.11/site-packages (0.22.1)\n",
      "Requirement already satisfied: rapidfuzz<4.0.0,>=3.0.0 in /opt/anaconda3/lib/python3.11/site-packages (from thefuzz) (3.9.3)\n"
     ]
    }
   ],
   "source": [
    "!pip install thefuzz"
   ]
  },
  {
   "cell_type": "code",
   "execution_count": 72,
   "id": "74a02b82",
   "metadata": {
    "executionInfo": {
     "elapsed": 804,
     "status": "ok",
     "timestamp": 1719325994398,
     "user": {
      "displayName": "Damla Helvaci",
      "userId": "07548812876669869985"
     },
     "user_tz": -120
    },
    "id": "74a02b82"
   },
   "outputs": [],
   "source": [
    "import pandas as pd\n",
    "import seaborn as sns\n",
    "import matplotlib.pyplot as plt"
   ]
  },
  {
   "cell_type": "code",
   "execution_count": 73,
   "id": "f68a09bc",
   "metadata": {
    "executionInfo": {
     "elapsed": 5,
     "status": "ok",
     "timestamp": 1719325994398,
     "user": {
      "displayName": "Damla Helvaci",
      "userId": "07548812876669869985"
     },
     "user_tz": -120
    },
    "id": "f68a09bc"
   },
   "outputs": [],
   "source": [
    "url = \"/Users/elizavetazavartseva/Downloads/GSAF5.xls\""
   ]
  },
  {
   "cell_type": "code",
   "execution_count": 74,
   "id": "bf7d260f-ec44-4283-a054-3f5d4691928b",
   "metadata": {},
   "outputs": [],
   "source": [
    "sharks_df = pd.read_excel(url)"
   ]
  },
  {
   "cell_type": "markdown",
   "id": "f572dd0f-31af-4f54-9207-fb85258ef70f",
   "metadata": {},
   "source": [
    "## Cleaninig Data"
   ]
  },
  {
   "cell_type": "code",
   "execution_count": 77,
   "id": "a4803f6f-7a86-4289-8fcc-888dba2da722",
   "metadata": {},
   "outputs": [
    {
     "name": "stdout",
     "output_type": "stream",
     "text": [
      "Index(['date', 'year', 'type', 'country', 'state', 'location', 'activity',\n",
      "       'name', 'sex', 'age', 'injury', 'unnamed:_11', 'time', 'species_',\n",
      "       'source', 'pdf', 'href_formula', 'href', 'case_number', 'case_number.1',\n",
      "       'original_order', 'unnamed:_21', 'unnamed:_22'],\n",
      "      dtype='object')\n"
     ]
    }
   ],
   "source": [
    "#Cleaning Column Names\n",
    "\n",
    "sharks_df.columns = pd.Series(sharks_df.columns).apply(lambda col: col.lower())\n",
    "sharks_df.rename(columns = lambda x: x.replace(' ', '_'), inplace=True)\n",
    "\n",
    "print(sharks_df.columns)"
   ]
  },
  {
   "cell_type": "code",
   "execution_count": 78,
   "id": "b253e83b",
   "metadata": {
    "executionInfo": {
     "elapsed": 9,
     "status": "aborted",
     "timestamp": 1719325994985,
     "user": {
      "displayName": "Damla Helvaci",
      "userId": "07548812876669869985"
     },
     "user_tz": -120
    },
    "id": "b253e83b"
   },
   "outputs": [
    {
     "name": "stdout",
     "output_type": "stream",
     "text": [
      "<class 'pandas.core.frame.DataFrame'>\n",
      "RangeIndex: 6969 entries, 0 to 6968\n",
      "Data columns (total 23 columns):\n",
      " #   Column          Non-Null Count  Dtype  \n",
      "---  ------          --------------  -----  \n",
      " 0   date            6944 non-null   object \n",
      " 1   year            6942 non-null   float64\n",
      " 2   type            6926 non-null   object \n",
      " 3   country         6894 non-null   object \n",
      " 4   state           6462 non-null   object \n",
      " 5   location        6379 non-null   object \n",
      " 6   activity        6358 non-null   object \n",
      " 7   name            6724 non-null   object \n",
      " 8   sex             6365 non-null   object \n",
      " 9   age             3950 non-null   object \n",
      " 10  injury          6909 non-null   object \n",
      " 11  unnamed:_11     6382 non-null   object \n",
      " 12  time            3418 non-null   object \n",
      " 13  species_        3812 non-null   object \n",
      " 14  source          6925 non-null   object \n",
      " 15  pdf             6799 non-null   object \n",
      " 16  href_formula    6819 non-null   object \n",
      " 17  href            6796 non-null   object \n",
      " 18  case_number     6798 non-null   object \n",
      " 19  case_number.1   6797 non-null   object \n",
      " 20  original_order  6799 non-null   float64\n",
      " 21  unnamed:_21     1 non-null      object \n",
      " 22  unnamed:_22     2 non-null      object \n",
      "dtypes: float64(2), object(21)\n",
      "memory usage: 1.2+ MB\n",
      "None\n"
     ]
    },
    {
     "data": {
      "text/html": [
       "<div>\n",
       "<style scoped>\n",
       "    .dataframe tbody tr th:only-of-type {\n",
       "        vertical-align: middle;\n",
       "    }\n",
       "\n",
       "    .dataframe tbody tr th {\n",
       "        vertical-align: top;\n",
       "    }\n",
       "\n",
       "    .dataframe thead th {\n",
       "        text-align: right;\n",
       "    }\n",
       "</style>\n",
       "<table border=\"1\" class=\"dataframe\">\n",
       "  <thead>\n",
       "    <tr style=\"text-align: right;\">\n",
       "      <th></th>\n",
       "      <th>date</th>\n",
       "      <th>year</th>\n",
       "      <th>type</th>\n",
       "      <th>country</th>\n",
       "      <th>state</th>\n",
       "      <th>location</th>\n",
       "      <th>activity</th>\n",
       "      <th>name</th>\n",
       "      <th>sex</th>\n",
       "      <th>age</th>\n",
       "      <th>...</th>\n",
       "      <th>species_</th>\n",
       "      <th>source</th>\n",
       "      <th>pdf</th>\n",
       "      <th>href_formula</th>\n",
       "      <th>href</th>\n",
       "      <th>case_number</th>\n",
       "      <th>case_number.1</th>\n",
       "      <th>original_order</th>\n",
       "      <th>unnamed:_21</th>\n",
       "      <th>unnamed:_22</th>\n",
       "    </tr>\n",
       "  </thead>\n",
       "  <tbody>\n",
       "    <tr>\n",
       "      <th>0</th>\n",
       "      <td>15 Mar 2024</td>\n",
       "      <td>2024.0</td>\n",
       "      <td>Unprovoked</td>\n",
       "      <td>AUSTRALIA</td>\n",
       "      <td>Queensland</td>\n",
       "      <td>Bargara Beach</td>\n",
       "      <td>Swimming</td>\n",
       "      <td>Brooklyn Sauer</td>\n",
       "      <td>F</td>\n",
       "      <td>13</td>\n",
       "      <td>...</td>\n",
       "      <td>Tiger shark</td>\n",
       "      <td>Yahoo News, 3/15/2024</td>\n",
       "      <td>NaN</td>\n",
       "      <td>NaN</td>\n",
       "      <td>NaN</td>\n",
       "      <td>NaN</td>\n",
       "      <td>NaN</td>\n",
       "      <td>NaN</td>\n",
       "      <td>NaN</td>\n",
       "      <td>NaN</td>\n",
       "    </tr>\n",
       "    <tr>\n",
       "      <th>1</th>\n",
       "      <td>04 Mar 2024</td>\n",
       "      <td>2024.0</td>\n",
       "      <td>Unprovoked</td>\n",
       "      <td>USA</td>\n",
       "      <td>Hawaii</td>\n",
       "      <td>Old Man's, Waikiki</td>\n",
       "      <td>Surfing</td>\n",
       "      <td>Matthew White</td>\n",
       "      <td>M</td>\n",
       "      <td>NaN</td>\n",
       "      <td>...</td>\n",
       "      <td>Tiger shark 8'</td>\n",
       "      <td>Surfer, 3/6/2024F</td>\n",
       "      <td>NaN</td>\n",
       "      <td>NaN</td>\n",
       "      <td>NaN</td>\n",
       "      <td>NaN</td>\n",
       "      <td>NaN</td>\n",
       "      <td>NaN</td>\n",
       "      <td>NaN</td>\n",
       "      <td>NaN</td>\n",
       "    </tr>\n",
       "    <tr>\n",
       "      <th>2</th>\n",
       "      <td>02 Mar-2024</td>\n",
       "      <td>2024.0</td>\n",
       "      <td>Unprovoked</td>\n",
       "      <td>USA</td>\n",
       "      <td>Hawaii</td>\n",
       "      <td>Rainbows, Oahu</td>\n",
       "      <td>Swimming</td>\n",
       "      <td>NaN</td>\n",
       "      <td>F</td>\n",
       "      <td>11</td>\n",
       "      <td>...</td>\n",
       "      <td>3' to 4' shark</td>\n",
       "      <td>Hawaii News Now, 3/4/2024</td>\n",
       "      <td>NaN</td>\n",
       "      <td>NaN</td>\n",
       "      <td>NaN</td>\n",
       "      <td>NaN</td>\n",
       "      <td>NaN</td>\n",
       "      <td>NaN</td>\n",
       "      <td>NaN</td>\n",
       "      <td>NaN</td>\n",
       "    </tr>\n",
       "    <tr>\n",
       "      <th>3</th>\n",
       "      <td>25 Feb-2024</td>\n",
       "      <td>2024.0</td>\n",
       "      <td>Unprovoked</td>\n",
       "      <td>AUSTRALIA</td>\n",
       "      <td>Western Australia</td>\n",
       "      <td>Sandlnd Island, Jurian Bay</td>\n",
       "      <td>NaN</td>\n",
       "      <td>female</td>\n",
       "      <td>F</td>\n",
       "      <td>46</td>\n",
       "      <td>...</td>\n",
       "      <td>Tiger shark</td>\n",
       "      <td>WA Today, 2/26/2024</td>\n",
       "      <td>NaN</td>\n",
       "      <td>NaN</td>\n",
       "      <td>NaN</td>\n",
       "      <td>NaN</td>\n",
       "      <td>NaN</td>\n",
       "      <td>NaN</td>\n",
       "      <td>NaN</td>\n",
       "      <td>NaN</td>\n",
       "    </tr>\n",
       "    <tr>\n",
       "      <th>4</th>\n",
       "      <td>14 Feb-2024</td>\n",
       "      <td>2024.0</td>\n",
       "      <td>Unprovoked</td>\n",
       "      <td>INDIA</td>\n",
       "      <td>Maharashtra</td>\n",
       "      <td>Vaitarna River, Palghar District</td>\n",
       "      <td>Fishing</td>\n",
       "      <td>Vicky Suresh Govari</td>\n",
       "      <td>M</td>\n",
       "      <td>32</td>\n",
       "      <td>...</td>\n",
       "      <td>Bull shark, 7'</td>\n",
       "      <td>Times of India, 2/14/2024</td>\n",
       "      <td>NaN</td>\n",
       "      <td>NaN</td>\n",
       "      <td>NaN</td>\n",
       "      <td>NaN</td>\n",
       "      <td>NaN</td>\n",
       "      <td>NaN</td>\n",
       "      <td>NaN</td>\n",
       "      <td>NaN</td>\n",
       "    </tr>\n",
       "    <tr>\n",
       "      <th>...</th>\n",
       "      <td>...</td>\n",
       "      <td>...</td>\n",
       "      <td>...</td>\n",
       "      <td>...</td>\n",
       "      <td>...</td>\n",
       "      <td>...</td>\n",
       "      <td>...</td>\n",
       "      <td>...</td>\n",
       "      <td>...</td>\n",
       "      <td>...</td>\n",
       "      <td>...</td>\n",
       "      <td>...</td>\n",
       "      <td>...</td>\n",
       "      <td>...</td>\n",
       "      <td>...</td>\n",
       "      <td>...</td>\n",
       "      <td>...</td>\n",
       "      <td>...</td>\n",
       "      <td>...</td>\n",
       "      <td>...</td>\n",
       "      <td>...</td>\n",
       "    </tr>\n",
       "    <tr>\n",
       "      <th>6964</th>\n",
       "      <td>NaN</td>\n",
       "      <td>NaN</td>\n",
       "      <td>NaN</td>\n",
       "      <td>NaN</td>\n",
       "      <td>NaN</td>\n",
       "      <td>NaN</td>\n",
       "      <td>NaN</td>\n",
       "      <td>NaN</td>\n",
       "      <td>NaN</td>\n",
       "      <td>NaN</td>\n",
       "      <td>...</td>\n",
       "      <td>NaN</td>\n",
       "      <td>NaN</td>\n",
       "      <td>NaN</td>\n",
       "      <td>http://sharkattackfile.net/spreadsheets/pdf_di...</td>\n",
       "      <td>NaN</td>\n",
       "      <td>NaN</td>\n",
       "      <td>NaN</td>\n",
       "      <td>NaN</td>\n",
       "      <td>NaN</td>\n",
       "      <td>NaN</td>\n",
       "    </tr>\n",
       "    <tr>\n",
       "      <th>6965</th>\n",
       "      <td>NaN</td>\n",
       "      <td>NaN</td>\n",
       "      <td>NaN</td>\n",
       "      <td>NaN</td>\n",
       "      <td>NaN</td>\n",
       "      <td>NaN</td>\n",
       "      <td>NaN</td>\n",
       "      <td>NaN</td>\n",
       "      <td>NaN</td>\n",
       "      <td>NaN</td>\n",
       "      <td>...</td>\n",
       "      <td>NaN</td>\n",
       "      <td>NaN</td>\n",
       "      <td>NaN</td>\n",
       "      <td>http://sharkattackfile.net/spreadsheets/pdf_di...</td>\n",
       "      <td>NaN</td>\n",
       "      <td>NaN</td>\n",
       "      <td>NaN</td>\n",
       "      <td>NaN</td>\n",
       "      <td>NaN</td>\n",
       "      <td>NaN</td>\n",
       "    </tr>\n",
       "    <tr>\n",
       "      <th>6966</th>\n",
       "      <td>NaN</td>\n",
       "      <td>NaN</td>\n",
       "      <td>NaN</td>\n",
       "      <td>NaN</td>\n",
       "      <td>NaN</td>\n",
       "      <td>NaN</td>\n",
       "      <td>NaN</td>\n",
       "      <td>NaN</td>\n",
       "      <td>NaN</td>\n",
       "      <td>NaN</td>\n",
       "      <td>...</td>\n",
       "      <td>NaN</td>\n",
       "      <td>NaN</td>\n",
       "      <td>NaN</td>\n",
       "      <td>http://sharkattackfile.net/spreadsheets/pdf_di...</td>\n",
       "      <td>NaN</td>\n",
       "      <td>NaN</td>\n",
       "      <td>NaN</td>\n",
       "      <td>NaN</td>\n",
       "      <td>NaN</td>\n",
       "      <td>NaN</td>\n",
       "    </tr>\n",
       "    <tr>\n",
       "      <th>6967</th>\n",
       "      <td>NaN</td>\n",
       "      <td>NaN</td>\n",
       "      <td>NaN</td>\n",
       "      <td>NaN</td>\n",
       "      <td>NaN</td>\n",
       "      <td>NaN</td>\n",
       "      <td>NaN</td>\n",
       "      <td>NaN</td>\n",
       "      <td>NaN</td>\n",
       "      <td>NaN</td>\n",
       "      <td>...</td>\n",
       "      <td>NaN</td>\n",
       "      <td>NaN</td>\n",
       "      <td>NaN</td>\n",
       "      <td>http://sharkattackfile.net/spreadsheets/pdf_di...</td>\n",
       "      <td>NaN</td>\n",
       "      <td>NaN</td>\n",
       "      <td>NaN</td>\n",
       "      <td>NaN</td>\n",
       "      <td>NaN</td>\n",
       "      <td>NaN</td>\n",
       "    </tr>\n",
       "    <tr>\n",
       "      <th>6968</th>\n",
       "      <td>NaN</td>\n",
       "      <td>NaN</td>\n",
       "      <td>NaN</td>\n",
       "      <td>NaN</td>\n",
       "      <td>NaN</td>\n",
       "      <td>NaN</td>\n",
       "      <td>NaN</td>\n",
       "      <td>NaN</td>\n",
       "      <td>NaN</td>\n",
       "      <td>NaN</td>\n",
       "      <td>...</td>\n",
       "      <td>NaN</td>\n",
       "      <td>NaN</td>\n",
       "      <td>NaN</td>\n",
       "      <td>http://sharkattackfile.net/spreadsheets/pdf_di...</td>\n",
       "      <td>NaN</td>\n",
       "      <td>NaN</td>\n",
       "      <td>NaN</td>\n",
       "      <td>NaN</td>\n",
       "      <td>NaN</td>\n",
       "      <td>NaN</td>\n",
       "    </tr>\n",
       "  </tbody>\n",
       "</table>\n",
       "<p>6969 rows × 23 columns</p>\n",
       "</div>"
      ],
      "text/plain": [
       "             date    year        type    country              state  \\\n",
       "0     15 Mar 2024  2024.0  Unprovoked  AUSTRALIA         Queensland   \n",
       "1     04 Mar 2024  2024.0  Unprovoked        USA             Hawaii   \n",
       "2     02 Mar-2024  2024.0  Unprovoked        USA             Hawaii   \n",
       "3     25 Feb-2024  2024.0  Unprovoked  AUSTRALIA  Western Australia   \n",
       "4     14 Feb-2024  2024.0  Unprovoked      INDIA        Maharashtra   \n",
       "...           ...     ...         ...        ...                ...   \n",
       "6964          NaN     NaN         NaN        NaN                NaN   \n",
       "6965          NaN     NaN         NaN        NaN                NaN   \n",
       "6966          NaN     NaN         NaN        NaN                NaN   \n",
       "6967          NaN     NaN         NaN        NaN                NaN   \n",
       "6968          NaN     NaN         NaN        NaN                NaN   \n",
       "\n",
       "                              location  activity                 name  sex  \\\n",
       "0                        Bargara Beach  Swimming       Brooklyn Sauer    F   \n",
       "1                   Old Man's, Waikiki   Surfing        Matthew White    M   \n",
       "2                       Rainbows, Oahu  Swimming                  NaN    F   \n",
       "3           Sandlnd Island, Jurian Bay       NaN               female    F   \n",
       "4     Vaitarna River, Palghar District   Fishing  Vicky Suresh Govari    M   \n",
       "...                                ...       ...                  ...  ...   \n",
       "6964                               NaN       NaN                  NaN  NaN   \n",
       "6965                               NaN       NaN                  NaN  NaN   \n",
       "6966                               NaN       NaN                  NaN  NaN   \n",
       "6967                               NaN       NaN                  NaN  NaN   \n",
       "6968                               NaN       NaN                  NaN  NaN   \n",
       "\n",
       "      age  ...        species_                     source  pdf  \\\n",
       "0      13  ...     Tiger shark      Yahoo News, 3/15/2024  NaN   \n",
       "1     NaN  ...  Tiger shark 8'          Surfer, 3/6/2024F  NaN   \n",
       "2      11  ...  3' to 4' shark  Hawaii News Now, 3/4/2024  NaN   \n",
       "3      46  ...     Tiger shark        WA Today, 2/26/2024  NaN   \n",
       "4      32  ...  Bull shark, 7'  Times of India, 2/14/2024  NaN   \n",
       "...   ...  ...             ...                        ...  ...   \n",
       "6964  NaN  ...             NaN                        NaN  NaN   \n",
       "6965  NaN  ...             NaN                        NaN  NaN   \n",
       "6966  NaN  ...             NaN                        NaN  NaN   \n",
       "6967  NaN  ...             NaN                        NaN  NaN   \n",
       "6968  NaN  ...             NaN                        NaN  NaN   \n",
       "\n",
       "                                           href_formula href case_number  \\\n",
       "0                                                   NaN  NaN         NaN   \n",
       "1                                                   NaN  NaN         NaN   \n",
       "2                                                   NaN  NaN         NaN   \n",
       "3                                                   NaN  NaN         NaN   \n",
       "4                                                   NaN  NaN         NaN   \n",
       "...                                                 ...  ...         ...   \n",
       "6964  http://sharkattackfile.net/spreadsheets/pdf_di...  NaN         NaN   \n",
       "6965  http://sharkattackfile.net/spreadsheets/pdf_di...  NaN         NaN   \n",
       "6966  http://sharkattackfile.net/spreadsheets/pdf_di...  NaN         NaN   \n",
       "6967  http://sharkattackfile.net/spreadsheets/pdf_di...  NaN         NaN   \n",
       "6968  http://sharkattackfile.net/spreadsheets/pdf_di...  NaN         NaN   \n",
       "\n",
       "     case_number.1 original_order unnamed:_21 unnamed:_22  \n",
       "0              NaN            NaN         NaN         NaN  \n",
       "1              NaN            NaN         NaN         NaN  \n",
       "2              NaN            NaN         NaN         NaN  \n",
       "3              NaN            NaN         NaN         NaN  \n",
       "4              NaN            NaN         NaN         NaN  \n",
       "...            ...            ...         ...         ...  \n",
       "6964           NaN            NaN         NaN         NaN  \n",
       "6965           NaN            NaN         NaN         NaN  \n",
       "6966           NaN            NaN         NaN         NaN  \n",
       "6967           NaN            NaN         NaN         NaN  \n",
       "6968           NaN            NaN         NaN         NaN  \n",
       "\n",
       "[6969 rows x 23 columns]"
      ]
     },
     "execution_count": 78,
     "metadata": {},
     "output_type": "execute_result"
    }
   ],
   "source": [
    "print(sharks_df.info())\n",
    "\n",
    "sharks_df\n",
    "#original Dataframe"
   ]
  },
  {
   "cell_type": "code",
   "execution_count": 79,
   "id": "f071aa30-f08e-44a4-bc4f-6c6abc34fdc5",
   "metadata": {},
   "outputs": [],
   "source": [
    "#Column: date\n",
    "\n",
    "import datetime as dt   \n",
    "#it's nessesary for work with date\n",
    "\n",
    "sharks_df.dropna(subset=\"date\", inplace=True)    \n",
    "#delete all null values\n",
    "\n",
    "sharks_df[\"date\"] = sharks_df[\"date\"] \\\n",
    "    .str.replace(\"-\", \" \") \\\n",
    "    .str.replace(\"Nox\", \"Nov\") \\\n",
    "    .str.extract(\".*(\\d{2} [a-zA-Z]{3} \\d{4}).*\")\n",
    "    # .str.apply(lambda x: dt.datetime.strptime(x,'%d %b %Y'))\n",
    "\n",
    "\n",
    "\n",
    "# print(tmp_sharks_df[\"Date\"])\n",
    "# tmp_sharks_df[\"Date\"] = tmp_sharks_df[\"Date\"].apply(lambda x: dt.datetime.strptime(x,'%d %b %Y') if type(x)==str else pd.NaT)\n",
    "# print(tmp_sharks_df[\"Date\"])\n",
    "\n",
    "\n",
    "sharks_df[\"date\"] = pd.to_datetime(sharks_df[\"date\"], format=\"%d %b %Y\", errors='coerce')\n",
    "sharks_df.dropna(subset=\"date\", inplace=True)"
   ]
  },
  {
   "cell_type": "code",
   "execution_count": 80,
   "id": "2f163500-2b89-4239-b614-bb9b76f7e697",
   "metadata": {},
   "outputs": [
    {
     "name": "stdout",
     "output_type": "stream",
     "text": [
      "<class 'pandas.core.frame.DataFrame'>\n",
      "Index: 5976 entries, 0 to 6932\n",
      "Data columns (total 23 columns):\n",
      " #   Column          Non-Null Count  Dtype         \n",
      "---  ------          --------------  -----         \n",
      " 0   date            5976 non-null   datetime64[ns]\n",
      " 1   year            5974 non-null   float64       \n",
      " 2   type            5960 non-null   object        \n",
      " 3   country         5947 non-null   object        \n",
      " 4   state           5648 non-null   object        \n",
      " 5   location        5610 non-null   object        \n",
      " 6   activity        5561 non-null   object        \n",
      " 7   name            5814 non-null   object        \n",
      " 8   sex             5534 non-null   object        \n",
      " 9   age             3738 non-null   object        \n",
      " 10  injury          5954 non-null   object        \n",
      " 11  unnamed:_11     5497 non-null   object        \n",
      " 12  time            3297 non-null   object        \n",
      " 13  species_        3423 non-null   object        \n",
      " 14  source          5961 non-null   object        \n",
      " 15  pdf             5842 non-null   object        \n",
      " 16  href_formula    5838 non-null   object        \n",
      " 17  href            5839 non-null   object        \n",
      " 18  case_number     5841 non-null   object        \n",
      " 19  case_number.1   5840 non-null   object        \n",
      " 20  original_order  5842 non-null   float64       \n",
      " 21  unnamed:_21     1 non-null      object        \n",
      " 22  unnamed:_22     2 non-null      object        \n",
      "dtypes: datetime64[ns](1), float64(2), object(20)\n",
      "memory usage: 1.1+ MB\n",
      "None\n"
     ]
    }
   ],
   "source": [
    "print(sharks_df.info())\n",
    "\n",
    "#Data Type after clining column Data"
   ]
  },
  {
   "cell_type": "code",
   "execution_count": 81,
   "id": "271a2275-a43c-4eaa-883c-ab7afe1002fb",
   "metadata": {},
   "outputs": [],
   "source": [
    "#Add new colimn: month\n",
    "sharks_df['month'] = sharks_df['date'].dt.month"
   ]
  },
  {
   "cell_type": "code",
   "execution_count": 82,
   "id": "f6d74d34-9c45-4d4c-9546-8acccab04e51",
   "metadata": {},
   "outputs": [],
   "source": [
    "#Add new colimn: month\n",
    "sharks_df['year'] = sharks_df['date'].dt.year"
   ]
  },
  {
   "cell_type": "code",
   "execution_count": 83,
   "id": "df1d8818-edd5-40ae-967f-a735299414f8",
   "metadata": {},
   "outputs": [],
   "source": [
    "#Column: year\n",
    "\n",
    "#Updated it earlier."
   ]
  },
  {
   "cell_type": "code",
   "execution_count": 84,
   "id": "345407fe-eec9-43a6-8b3c-c4f87ed9d93b",
   "metadata": {},
   "outputs": [],
   "source": [
    "#Column: type\n",
    "\n",
    "sharks_df['type'] = sharks_df['type'].str.capitalize().str.strip()\n"
   ]
  },
  {
   "cell_type": "code",
   "execution_count": 85,
   "id": "a6b77631-5693-444b-81d7-35072b254825",
   "metadata": {},
   "outputs": [],
   "source": [
    "replace_dict = {\n",
    "    'Questionable': 'Indefined',\n",
    "    'Unconfirmed': 'Indefined',\n",
    "    'Invalid': 'Indefined',\n",
    "    'Unverified': 'Indefined',\n",
    "    'Under investigation': 'Indefined',\n",
    "    'Boat': 'Indefined',\n",
    "    '?': 'Indefined'\n",
    "\n",
    "}\n",
    "\n",
    "sharks_df['type'] = sharks_df['type'].replace(replace_dict)\n",
    "\n",
    "sharks_df.type.fillna('Indefined', inplace = True)\n",
    "\n",
    "#Sometimes we need to run it twice."
   ]
  },
  {
   "cell_type": "code",
   "execution_count": 86,
   "id": "b8387417-bfdf-4ab0-80f3-41ecaa8692a9",
   "metadata": {},
   "outputs": [
    {
     "data": {
      "text/plain": [
       "array(['Unprovoked', 'provoked', 'Provoked', 'Indefined', 'Watercraft',\n",
       "       'Sea disaster'], dtype=object)"
      ]
     },
     "execution_count": 86,
     "metadata": {},
     "output_type": "execute_result"
    }
   ],
   "source": [
    "#Types after cleaning\n",
    "\n",
    "sharks_df['type'].unique()\n",
    "\n",
    "#Replaced NaN to 'Indefined'\n",
    "#Replaced 'Questionable', 'Unconfirmed', 'Unverified', 'Invalid', 'Under investigation' ... -> 'Indefined'"
   ]
  },
  {
   "cell_type": "code",
   "execution_count": 87,
   "id": "577ee3ed-b01e-4b7a-930c-da26c79a0127",
   "metadata": {},
   "outputs": [
    {
     "name": "stdout",
     "output_type": "stream",
     "text": [
      "Column \"country\" has 29 null values.\n"
     ]
    }
   ],
   "source": [
    "#Column: country\n",
    "#Check how many null values in column \"country\"\n",
    "print(f'Column \"country\" has {sharks_df.country.isna().sum()} null values.')"
   ]
  },
  {
   "cell_type": "code",
   "execution_count": 88,
   "id": "2afc0e2c-8791-432f-b813-1744c50ae9bc",
   "metadata": {},
   "outputs": [],
   "source": [
    "#Column: country\n",
    "sharks_df.dropna(subset=\"country\", inplace=True)\n",
    "\n",
    "#Deleting rows with null values in country."
   ]
  },
  {
   "cell_type": "code",
   "execution_count": 107,
   "id": "eb19e492-2098-4e15-84a2-075ec68fb4fe",
   "metadata": {},
   "outputs": [],
   "source": [
    "#Column: country\n",
    "\n",
    "sharks_df['country'] = sharks_df['country'].str.upper().str.strip()"
   ]
  },
  {
   "cell_type": "code",
   "execution_count": 109,
   "id": "fcb426f6-90a6-4560-9bca-44a8a91d72ec",
   "metadata": {},
   "outputs": [],
   "source": [
    "#Column: country\n",
    "\n",
    "from thefuzz import process\n",
    "\n",
    "# Define the list of standard country names\n",
    "standard_countries = [\n",
    "    'AUSTRALIA', 'USA', 'INDIA', 'TRINIDAD', 'BAHAMAS', 'SOUTH AFRICA', 'MEXICO', 'NEW ZEALAND', 'EGYPT', 'BELIZE',\n",
    "    'PHILIPPINES', 'CORAL SEA', 'SPAIN', 'PORTUGAL', 'SAMOA', 'COLOMBIA', 'ECUADOR', 'FRENCH POLYNESIA', 'NEW CALEDONIA',\n",
    "    'TURKS AND CAICOS', 'CUBA', 'BRAZIL', 'SEYCHELLES', 'ARGENTINA', 'FIJI', 'MALDIVES', 'ENGLAND', 'JAPAN', 'INDONESIA',\n",
    "    'JAMAICA', 'THAILAND', 'COLUMBIA', 'COSTA RICA', 'BRITISH OVERSEAS TERRITORY', 'CANADA', 'JORDAN', 'ST KITTS AND NEVIS',\n",
    "    'ST MARTIN', 'PAPUA NEW GUINEA', 'REUNION ISLAND', 'ISRAEL', 'CHINA', 'IRELAND', 'ITALY', 'MALAYSIA', 'LIBYA', 'MAURITIUS',\n",
    "    'SOLOMON ISLANDS', 'COMOROS', 'UNITED KINGDOM', 'UNITED ARAB EMIRATES', 'CAPE VERDE', 'DOMINICAN REPUBLIC', 'CAYMAN ISLANDS',\n",
    "    'ARUBA', 'MOZAMBIQUE', 'PUERTO RICO', 'ATLANTIC OCEAN', 'GREECE', 'FRANCE', 'TRINIDAD & TOBAGO', 'KIRIBATI', 'DIEGO GARCIA',\n",
    "    'TAIWAN', 'PALESTINIAN TERRITORIES', 'GUAM', 'NIGERIA', 'TONGA', 'SCOTLAND', 'CROATIA', 'SAUDI ARABIA', 'CHILE', 'ANTIGUA',\n",
    "    'KENYA', 'RUSSIA', 'UNITED ARAB EMIRATES (UAE)', 'AZORES', 'SOUTH KOREA', 'MALTA', 'VIETNAM', 'MADAGASCAR', 'PANAMA', 'SOMALIA',\n",
    "    'NEVIS', 'BRITISH VIRGIN ISLANDS', 'NORWAY', 'SENEGAL', 'YEMEN', 'GULF OF ADEN', 'SIERRA LEONE', 'LIBERIA', 'VANUATU',\n",
    "    'HONDURAS', 'VENEZUELA', 'SRI LANKA', 'URUGUAY', 'MICRONESIA', 'CARIBBEAN SEA', 'OKINAWA', 'TANZANIA', 'MARSHALL ISLANDS',\n",
    "    'NORTHERN ARABIAN SEA', 'HONG KONG', 'EL SALVADOR', 'ANGOLA', 'BERMUDA', 'MONTENEGRO', 'IRAN', 'TUNISIA', 'NAMIBIA',\n",
    "    'NORTH ATLANTIC OCEAN', 'SOUTH CHINA SEA', 'BANGLADESH', 'PALAU', 'WESTERN SAMOA', 'PACIFIC OCEAN', 'BRITISH ISLES', 'GRENADA',\n",
    "    'IRAQ', 'TURKEY', 'SINGAPORE', 'NEW BRITAIN', 'SUDAN', 'JOHNSTON ISLAND', 'SOUTH PACIFIC OCEAN', 'NEW GUINEA', 'RED SEA',\n",
    "    'NORTH PACIFIC OCEAN', 'FEDERATED STATES OF MICRONESIA', 'MID ATLANTIC OCEAN', 'ADMIRALTY ISLANDS', 'BRITISH WEST INDIES',\n",
    "    'SOUTH ATLANTIC OCEAN', 'PERSIAN GULF', 'NICARAGUA', 'MALDIVE ISLANDS', 'AMERICAN SAMOA', 'GABON', 'MAYOTTE', 'THE BALKANS',\n",
    "    'MARTINIQUE', 'INDIAN OCEAN', 'GUATEMALA', 'NETHERLANDS ANTILLES', 'NORTHERN MARIANA ISLANDS', 'JAVA', 'SLOVENIA',\n",
    "    'CURACAO', 'ICELAND', 'BARBADOS', 'MONACO', 'GUYANA', 'HAITI', 'SAN DOMINGO', 'KUWAIT', 'FALKLAND ISLANDS', 'CRETE',\n",
    "    'CYPRUS', 'WEST INDIES', 'BURMA', 'LEBANON', 'PARAGUAY', 'BRITISH NEW GUINEA', 'CEYLON', 'OCEAN', 'GEORGIA', 'SYRIA', 'TUVALU',\n",
    "    'GUINEA', 'ANDAMAN ISLANDS', 'COOK ISLANDS', 'TOBAGO', 'PERU', 'AFRICA', 'ALGERIA', 'COAST OF AFRICA', 'TASMAN SEA',\n",
    "    'GHANA', 'GREENLAND', 'MEDITERRANEAN SEA', 'SWEDEN', 'ROATAN', 'DJIBOUTI', 'BAHREIN', 'KOREA', 'ASIA'\n",
    "]\n",
    "# Define the fuzzy match function\n",
    "\n",
    "def fuzzy_match(country, choices, scorer, cutoff=80):\n",
    "    if isinstance(country, str):  # Ensure the country is a string\n",
    "        match, score = process.extractOne(country, choices, scorer=scorer)\n",
    "        if score >= cutoff:\n",
    "            return match\n",
    "    return country  # Return original value if no match or not a string\n",
    "    \n",
    "# Apply the fuzzy match function to the 'country' column\n",
    "sharks_df['country'] = sharks_df['country'].apply(lambda x: fuzzy_match(x, standard_countries, scorer=process.fuzz.token_sort_ratio))\n"
   ]
  },
  {
   "cell_type": "code",
   "execution_count": 111,
   "id": "242fa256-1e1f-4c9d-934b-1ae57552b6ad",
   "metadata": {},
   "outputs": [],
   "source": [
    "#Column: state\n",
    "\n",
    "sharks_df['state'] = sharks_df['state'].str.upper().str.strip()"
   ]
  },
  {
   "cell_type": "code",
   "execution_count": 117,
   "id": "558d8e56-9167-4704-b7fa-3f19765ce583",
   "metadata": {},
   "outputs": [
    {
     "name": "stdout",
     "output_type": "stream",
     "text": [
      "Column \"state\" has 307 null values.\n"
     ]
    }
   ],
   "source": [
    "#Column: state\n",
    "\n",
    "#Check how many null values in column \"state\"\n",
    "print(f'Column \"state\" has {sharks_df.state.isna().sum()} null values.')\n",
    "\n",
    "#We keep it. Last priority."
   ]
  },
  {
   "cell_type": "code",
   "execution_count": 119,
   "id": "b1589b82-7fd6-44b0-ba4b-5c8e2d479a9e",
   "metadata": {},
   "outputs": [],
   "source": [
    "#Column: state\n",
    "\n",
    "sharks_df.state.fillna('Indefined', inplace = True)"
   ]
  },
  {
   "cell_type": "code",
   "execution_count": 121,
   "id": "683356d4-508b-44bd-a991-f55b54184fb8",
   "metadata": {},
   "outputs": [
    {
     "name": "stdout",
     "output_type": "stream",
     "text": [
      "Column \"state\" has 0 null values.\n"
     ]
    }
   ],
   "source": [
    "#Column: state\n",
    "\n",
    "#Check how many null values in column \"state\"\n",
    "print(f'Column \"state\" has {sharks_df.state.isna().sum()} null values.')\n",
    "\n",
    "#We keep it. Last priority."
   ]
  },
  {
   "cell_type": "code",
   "execution_count": 123,
   "id": "d6988150-8826-4352-bd37-fab8ae7f10ec",
   "metadata": {},
   "outputs": [],
   "source": [
    "#Column: location\n",
    "\n",
    "sharks_df['location'] = sharks_df['location'].str.upper().str.strip()"
   ]
  },
  {
   "cell_type": "code",
   "execution_count": 125,
   "id": "688799d6-a0de-4859-8c91-f63d613e95db",
   "metadata": {},
   "outputs": [
    {
     "name": "stdout",
     "output_type": "stream",
     "text": [
      "Column \"location\" has 345 null values.\n"
     ]
    }
   ],
   "source": [
    "#Column: location\n",
    "\n",
    "#Check how many null values in column \"location\"\n",
    "print(f'Column \"location\" has {sharks_df.location.isna().sum()} null values.')"
   ]
  },
  {
   "cell_type": "code",
   "execution_count": 127,
   "id": "3b64cfed-e2ed-4cea-8a61-78a8601b0145",
   "metadata": {},
   "outputs": [],
   "source": [
    "#Column: location\n",
    "\n",
    "sharks_df.location.fillna('Indefined', inplace = True)\n",
    "\n",
    "#We keep it. Last priority."
   ]
  },
  {
   "cell_type": "code",
   "execution_count": 129,
   "id": "b811e323-2faf-4558-8490-0879c05ab488",
   "metadata": {},
   "outputs": [
    {
     "name": "stdout",
     "output_type": "stream",
     "text": [
      "Column \"location\" has 0 null values.\n"
     ]
    }
   ],
   "source": [
    "#Column: location\n",
    "\n",
    "#Check how many null values in column \"country\"\n",
    "print(f'Column \"location\" has {sharks_df.location.isna().sum()} null values.')"
   ]
  },
  {
   "cell_type": "code",
   "execution_count": 131,
   "id": "165b2770-6fbc-4ee9-8aab-381c70e41d09",
   "metadata": {},
   "outputs": [
    {
     "name": "stdout",
     "output_type": "stream",
     "text": [
      "activity\n",
      "Surfing                        1082\n",
      "Swimming                        916\n",
      "Fishing                         441\n",
      "Spearfishing                    315\n",
      "Wading                          158\n",
      "                               ... \n",
      "Boat ship josephine               1\n",
      "Swimming alongside schooner       1\n",
      "Wreck aphrodite                   1\n",
      "Dragging shark                    1\n",
      "Bathing/swimming                  1\n",
      "Name: count, Length: 1202, dtype: int64\n"
     ]
    }
   ],
   "source": [
    "#Column: activity\n",
    "\n",
    "sharks_df.dropna(subset=\"activity\", inplace=True)\n",
    "# tmp_sharks_df[\"Activity\"].apply(lambda x: \" \".join(x.split(\" \")[:3:])).apply(lambda x: x if len(x.split()} > 2 else \"\").value_counts()\n",
    "sharks_df[\"activity\"] = sharks_df[\"activity\"] \\\n",
    "    .str.replace(\" for\", \"\") \\\n",
    "    .str.replace(\" a \", \" \") \\\n",
    "    .str.replace(\" on\", \"\") \\\n",
    "    .str.replace(\" and\", \"\") \\\n",
    "    .str.replace(\" or\", \"\") \\\n",
    "    .str.replace(\" of\", \"\") \\\n",
    "    .str.replace(\" with\", \"\") \\\n",
    "    .str.replace(\" the\", \"\") \\\n",
    "    .str.replace(\" from\", \"\") \\\n",
    "    .str.replace(\" in\", \"\") \\\n",
    "    .str.replace(\" his\", \"\") \\\n",
    "    .str.replace(\" her\", \"\") \\\n",
    "    .str.replace(\" to\", \"\") \\\n",
    "    .str.replace(\" &\", \"\") \\\n",
    "    .str.replace(\" /\", \"\") \\\n",
    "    .str.replace(\"Freediving\", \"Free diving\") \\\n",
    "    .str.capitalize() \\\n",
    "    .str.strip() \\\n",
    "    .apply(lambda x: \" \".join(x.split(\" \")[:3:])) \\\n",
    "    .str.strip()\n",
    "\n",
    "print(sharks_df.activity.value_counts())"
   ]
  },
  {
   "cell_type": "code",
   "execution_count": 133,
   "id": "7f8bb8da-a75b-4789-aa6c-18e62c43ec6d",
   "metadata": {},
   "outputs": [],
   "source": [
    "#Column: name\n",
    "\n",
    "sharks_df.drop('name', axis=1, inplace=True)\n",
    "\n",
    "#Deleted this column."
   ]
  },
  {
   "cell_type": "code",
   "execution_count": 135,
   "id": "fcc14c9e-c50e-431b-8ece-85757c3bbfe2",
   "metadata": {},
   "outputs": [],
   "source": [
    "#Column: injury\n",
    "\n",
    "sharks_df.drop('injury', axis=1, inplace=True)\n",
    "\n",
    "#Deleted this column."
   ]
  },
  {
   "cell_type": "code",
   "execution_count": 137,
   "id": "41b787b4-e85a-4938-832d-2bbde50f34af",
   "metadata": {},
   "outputs": [],
   "source": [
    "#Column: unnamed:_11\n",
    "\n",
    "sharks_df.drop('unnamed:_11', axis=1, inplace=True)\n",
    "\n",
    "#Deleted this column."
   ]
  },
  {
   "cell_type": "code",
   "execution_count": 139,
   "id": "27b2355d-6c44-415e-8b93-a2e34a3b532f",
   "metadata": {},
   "outputs": [
    {
     "data": {
      "text/plain": [
       "array(['F', 'M'], dtype=object)"
      ]
     },
     "execution_count": 139,
     "metadata": {},
     "output_type": "execute_result"
    }
   ],
   "source": [
    "#Column: sex\n",
    "\n",
    "sharks_df[\"sex\"].replace(' M','M', inplace=True)        \n",
    "sharks_df[\"sex\"].replace('M ','M', inplace=True)\n",
    "sharks_df[\"sex\"].replace('M x 2','M', inplace=True)\n",
    "sharks_df[\"sex\"].replace('N','M', inplace=True) \n",
    "sharks_df[\"sex\"].replace('lli','M', inplace=True) \n",
    "sharks_df[\"sex\"].replace('.','M', inplace=True) \n",
    "sharks_df['sex'].fillna(sharks_df['sex'].mode()[0], inplace=True)\n",
    "\n",
    "\n",
    "sharks_df[\"sex\"].unique() "
   ]
  },
  {
   "cell_type": "code",
   "execution_count": 116,
   "id": "b125b5fd-5afc-4b55-bdd0-7480c75f07a5",
   "metadata": {},
   "outputs": [
    {
     "data": {
      "text/plain": [
       "array(['13', nan, '11', '32', '29', '10', '64', '62', '39', '22', '15',\n",
       "       '16', '46', '21', '20', '44', '26', '47', '66', '55', '30', '59',\n",
       "       '8', '50', '52', '45', '34', '38', '30s', '37', '9', '19', '35',\n",
       "       '65', '20s', '77', '60', 38, '49', '42', '!2', '24', '73', '25',\n",
       "       '18', '50s', '58', '67', '17', '14', '6', '41', '53', '68', '43',\n",
       "       '40', '51', '31', 39, 26, 58, 51, 14, 17, 10, 13, 33, 16, 41, 60,\n",
       "       28, '40s', 68, 35, 62, 20, 8, 32, 'Teen', 12, 56, 21, 42, 36, 18,\n",
       "       50, 'M', 9, 24, 15, 11, 27, 57, 34, 25, '!6', 31, 64, '!!', 47, 55,\n",
       "       19, 7, 71, 48, 59, 53, 54, 75, '45 and 15', 46, 61, 73, 52, 40, 29,\n",
       "       30, 70, 23, 22, 4, 63, 45, 37, 44, '28 & 22', '22, 57, 31', 49,\n",
       "       \"20's\", 43, 65, 67, 74, '9 & 60', '60s', 'a minor', 6, 3, 69, 82,\n",
       "       66, 72, '23', '12', '36', '63', '71', '48', '70', '18 months',\n",
       "       '57', '7', '28', '33', '61', 'teen', '74', '27', '56', '28 & 26',\n",
       "       '5', '54', '86', '18 or 20', '12 or 13', '46 & 34', '28, 23 & 30',\n",
       "       'Teens', 77, '36 & 26', '8 or 10', 84, '\\xa0 ', ' ', '30 or 36',\n",
       "       '6½', '21 & ?', '33 or 37', '23 & 20', 5, ' 30', '7      &    31',\n",
       "       ' 28', '20?', '69', '32 & 30', '87', 'Elderly', '74 ', '45 ',\n",
       "       '21 or 26', '20 ', '>50', '18 to 22', 'adult', '9 & 12', '? & 19',\n",
       "       '(adult)', '33 & 37', '25 or 28', '37, 67, 35, 27,  ? & 27',\n",
       "       '21, 34,24 & 35', '30 & 32', '50 & 30', '17 & 35', 'X', '13 or 18',\n",
       "       '33 & 26', '4', 'MAKE LINE GREEN', ' 43', '81', '\"young\"',\n",
       "       '17 & 16', 'F', '3', 'Both 11', '9 or 10', 'young', '36 & 23',\n",
       "       '  ', '78', 'A.M.', '?    &   14', '10 or 12', '31 or 33', '2½'],\n",
       "      dtype=object)"
      ]
     },
     "execution_count": 116,
     "metadata": {},
     "output_type": "execute_result"
    }
   ],
   "source": [
    "#Column: age\n",
    "\n",
    "sharks_df[\"age\"].unique() "
   ]
  },
  {
   "cell_type": "code",
   "execution_count": 152,
   "id": "d793ce76-9c25-45a7-80fd-38da09c5a4fe",
   "metadata": {},
   "outputs": [
    {
     "data": {
      "text/plain": [
       "array(['13', '15', '11', '32', '29', '10', '64', '62', '39', '22', '16',\n",
       "       '46', '21', '20', '44', '26', '47', '66', '55', '30', '59', '8',\n",
       "       '50', '52', '45', '34', '38', '37', '9', '19', '35', '65', '77',\n",
       "       '60', '49', '42', '2', '24', '73', '25', '18', '58', '67', '17',\n",
       "       '14', '6', '41', '53', '68', '43', '40', '51', '31', '0', '23',\n",
       "       '12', '36', '63', '71', '48', '70', '57', '7', '28', '33', '61',\n",
       "       '74', '27', '56', '5', '54', '86', '69', '87', '4', '81', '3',\n",
       "       '78'], dtype=object)"
      ]
     },
     "execution_count": 152,
     "metadata": {},
     "output_type": "execute_result"
    }
   ],
   "source": [
    "#Column: age\n",
    "\n",
    "sharks_df['age'].str.strip()\n",
    "sharks_df[\"age\"].replace('teen','10', inplace=True)\n",
    "sharks_df[\"age\"].replace('teen','10', inplace=True)\n",
    "sharks_df[\"age\"].replace('Teen','10', inplace=True)\n",
    "sharks_df[\"age\"].replace('20/30','25', inplace=True)\n",
    "sharks_df[\"age\"].replace('20/30','25', inplace=True)\n",
    "sharks_df[\"age\"] = sharks_df[\"age\"].str.replace('s','')\n",
    "sharks_df[\"age\"] = sharks_df[\"age\"].str.replace('!','')\n",
    "sharks_df[\"age\"] = sharks_df[\"age\"].str.replace('?','')\n",
    "sharks_df[\"age\"].replace('a minor','14', inplace=True)\n",
    "sharks_df[\"age\"].replace('18 month','2', inplace=True)\n",
    "sharks_df[\"age\"].replace('>50','55', inplace=True)\n",
    "sharks_df[\"age\"].replace('adult','40', inplace=True)\n",
    "sharks_df[\"age\"].replace('(adult)','40', inplace=True)\n",
    "sharks_df[\"age\"].replace('M','0', inplace=True)\n",
    "sharks_df[\"age\"].replace(\"''\",'0', inplace=True)\n",
    "sharks_df[\"age\"].replace('45 and 15','30', inplace=True)\n",
    "sharks_df[\"age\"].replace('28 & 22','25', inplace=True)\n",
    "sharks_df[\"age\"].replace('22, 57, 31','37', inplace=True)\n",
    "sharks_df[\"age\"].replace(\"20'\",'20', inplace=True)\n",
    "sharks_df[\"age\"].replace('9 & 60','35', inplace=True)\n",
    "sharks_df[\"age\"].replace('18 or 20','18', inplace=True)\n",
    "sharks_df[\"age\"].replace('28 & 26','27', inplace=True)\n",
    "sharks_df[\"age\"].replace('12 or 13','13', inplace=True)\n",
    "sharks_df[\"age\"].replace('46 & 34','40', inplace=True)\n",
    "sharks_df[\"age\"].replace('28, 23 & 30','27', inplace=True)\n",
    "sharks_df[\"age\"].replace('36 & 26','31', inplace=True)\n",
    "sharks_df[\"age\"].replace('30 or 36','30', inplace=True)\n",
    "sharks_df[\"age\"].replace('6½','7', inplace=True)\n",
    "sharks_df[\"age\"].replace('21 & ','21', inplace=True)\n",
    "sharks_df[\"age\"].replace('8 or 10','8', inplace=True)\n",
    "sharks_df[\"age\"].replace('23 & 20','21', inplace=True)\n",
    "sharks_df[\"age\"].replace('7      &    31','19', inplace=True)\n",
    "sharks_df[\"age\"].replace('32 & 30','31', inplace=True)\n",
    "sharks_df[\"age\"].replace('Elderly','70', inplace=True)\n",
    "sharks_df[\"age\"].replace('\\xa0 ','0', inplace=True)\n",
    "sharks_df[\"age\"].replace('37, 67, 35, 27,   & 27','39', inplace=True)\n",
    "sharks_df[\"age\"].replace(' ','0', inplace=True)\n",
    "sharks_df[\"age\"].replace('21 or 26','26', inplace=True)\n",
    "sharks_df[\"age\"].replace('18 to 22','20', inplace=True)\n",
    "sharks_df[\"age\"].replace('9 & 12','11', inplace=True)\n",
    "sharks_df[\"age\"].replace(' & 19','19', inplace=True)\n",
    "sharks_df[\"age\"].replace('33 & 37','35', inplace=True)\n",
    "sharks_df[\"age\"].replace('21, 34,24 & 35','29', inplace=True)\n",
    "sharks_df[\"age\"].replace('25 or 28','25', inplace=True)\n",
    "sharks_df[\"age\"].replace('30 & 32','31', inplace=True)\n",
    "sharks_df[\"age\"].replace('50 & 30','40', inplace=True)\n",
    "sharks_df[\"age\"].replace('17 & 35','26', inplace=True)\n",
    "sharks_df[\"age\"].replace('X','0', inplace=True)\n",
    "sharks_df[\"age\"].replace('13 or 18','15', inplace=True)\n",
    "sharks_df[\"age\"].replace('\"young\"','15', inplace=True)\n",
    "sharks_df[\"age\"].replace('17 & 16','16', inplace=True)\n",
    "sharks_df[\"age\"].replace('Both 11','11', inplace=True)\n",
    "sharks_df[\"age\"].replace('9 or 10','10', inplace=True)\n",
    "sharks_df[\"age\"].replace('33 & 26','30', inplace=True)\n",
    "sharks_df[\"age\"].replace('MAKE LINE GREEN','0', inplace=True)\n",
    "sharks_df[\"age\"].replace('F','0', inplace=True)\n",
    "sharks_df[\"age\"].replace('young','0', inplace=True)\n",
    "sharks_df[\"age\"].replace('36 & 23','0', inplace=True)\n",
    "sharks_df[\"age\"].replace('  ','0', inplace=True)\n",
    "sharks_df[\"age\"].replace('A.M.','0', inplace=True)\n",
    "sharks_df[\"age\"].replace('    &   14','0', inplace=True)\n",
    "sharks_df[\"age\"].replace('10 or 12','10', inplace=True)\n",
    "sharks_df[\"age\"].replace('31 or 33','32', inplace=True)\n",
    "sharks_df[\"age\"].replace('2½','3', inplace=True)\n",
    "sharks_df[\"age\"].replace('33 or 37','35', inplace=True)\n",
    "sharks_df[\"age\"].replace('','0', inplace=True)\n",
    "\n",
    "sharks_df['age'] = sharks_df['age'].str.strip()\n",
    "\n",
    "sharks_df[\"age\"].unique() \n",
    "\n",
    "#Sometimes we need to do it twice."
   ]
  },
  {
   "cell_type": "code",
   "execution_count": 154,
   "id": "795f57de-d942-4ac1-9a33-771dd39d8928",
   "metadata": {},
   "outputs": [],
   "source": [
    "#Column: age\n",
    "\n",
    "sharks_df['age'].fillna(sharks_df['age'].mode()[0], inplace=True)"
   ]
  },
  {
   "cell_type": "code",
   "execution_count": 156,
   "id": "a86aa270-aae5-4d26-900b-f8f2047c8868",
   "metadata": {},
   "outputs": [
    {
     "data": {
      "text/plain": [
       "array(['13', '15', '11', '32', '29', '10', '64', '62', '39', '22', '16',\n",
       "       '46', '21', '20', '44', '26', '47', '66', '55', '30', '59', '8',\n",
       "       '50', '52', '45', '34', '38', '37', '9', '19', '35', '65', '77',\n",
       "       '60', '49', '42', '2', '24', '73', '25', '18', '58', '67', '17',\n",
       "       '14', '6', '41', '53', '68', '43', '40', '51', '31', '0', '23',\n",
       "       '12', '36', '63', '71', '48', '70', '57', '7', '28', '33', '61',\n",
       "       '74', '27', '56', '5', '54', '86', '69', '87', '4', '81', '3',\n",
       "       '78'], dtype=object)"
      ]
     },
     "execution_count": 156,
     "metadata": {},
     "output_type": "execute_result"
    }
   ],
   "source": [
    "#Column: age\n",
    "\n",
    "sharks_df[\"age\"].unique()"
   ]
  },
  {
   "cell_type": "code",
   "execution_count": 158,
   "id": "44107c9f-703f-4cb6-a5ea-5cbef2df3096",
   "metadata": {},
   "outputs": [],
   "source": [
    "#Column: age\n",
    "\n",
    "sharks_df['age'] = sharks_df['age'].astype(int)"
   ]
  },
  {
   "cell_type": "code",
   "execution_count": 160,
   "id": "4923e5e4-22e1-49d5-a334-ebf28d2c22d0",
   "metadata": {},
   "outputs": [
    {
     "data": {
      "text/plain": [
       "date              datetime64[ns]\n",
       "year                       int32\n",
       "type                      object\n",
       "country                   object\n",
       "state                     object\n",
       "location                  object\n",
       "activity                  object\n",
       "sex                       object\n",
       "age                        int64\n",
       "time                      object\n",
       "species_                  object\n",
       "source                    object\n",
       "pdf                       object\n",
       "href_formula              object\n",
       "href                      object\n",
       "case_number               object\n",
       "case_number.1             object\n",
       "original_order           float64\n",
       "unnamed:_21               object\n",
       "unnamed:_22               object\n",
       "month                      int32\n",
       "dtype: object"
      ]
     },
     "execution_count": 160,
     "metadata": {},
     "output_type": "execute_result"
    }
   ],
   "source": [
    "#Column: age\n",
    "\n",
    "sharks_df.dtypes"
   ]
  },
  {
   "cell_type": "code",
   "execution_count": 130,
   "id": "0a2ff499-fa0a-48fd-b35c-566020ed6b6b",
   "metadata": {},
   "outputs": [],
   "source": [
    "#Column: time\n",
    "\n",
    "sharks_df.drop('time', axis=1, inplace=True)"
   ]
  },
  {
   "cell_type": "code",
   "execution_count": 131,
   "id": "1afac287-5c15-40e5-bc22-6a1aa8a07318",
   "metadata": {},
   "outputs": [],
   "source": [
    "#Column: pdf \n",
    "\n",
    "sharks_df.drop('pdf', axis=1, inplace=True)"
   ]
  },
  {
   "cell_type": "code",
   "execution_count": 132,
   "id": "d413c455-8efe-4de7-953f-8b7525eafad6",
   "metadata": {},
   "outputs": [],
   "source": [
    "#Column: href_formula \n",
    "\n",
    "sharks_df.drop('href_formula', axis=1, inplace=True)"
   ]
  },
  {
   "cell_type": "code",
   "execution_count": 133,
   "id": "aeac53ce-b8f9-49da-90c6-6bc2d3146867",
   "metadata": {},
   "outputs": [],
   "source": [
    "#Column: href \n",
    "\n",
    "sharks_df.drop('href', axis=1, inplace=True)"
   ]
  },
  {
   "cell_type": "code",
   "execution_count": 134,
   "id": "b2e19d74-a878-4b99-9377-224fbe18124d",
   "metadata": {},
   "outputs": [],
   "source": [
    "#Column: case_number\n",
    "\n",
    "sharks_df.drop('case_number', axis=1, inplace=True)"
   ]
  },
  {
   "cell_type": "code",
   "execution_count": 135,
   "id": "88a60815-eec3-4326-854e-c26a860969e2",
   "metadata": {},
   "outputs": [],
   "source": [
    "#Column: case_number.1  \n",
    "\n",
    "sharks_df.drop('case_number.1', axis=1, inplace=True)"
   ]
  },
  {
   "cell_type": "code",
   "execution_count": 136,
   "id": "53d2d27f-937f-4b58-9e68-4a882593585c",
   "metadata": {},
   "outputs": [],
   "source": [
    "#Column: original_order\n",
    "\n",
    "sharks_df.drop('original_order', axis=1, inplace=True)"
   ]
  },
  {
   "cell_type": "code",
   "execution_count": 137,
   "id": "38d7d057-24a9-4587-97c6-a37acd5ab37f",
   "metadata": {},
   "outputs": [],
   "source": [
    "#Column: unnamed:_21\n",
    "\n",
    "sharks_df.drop('unnamed:_21', axis=1, inplace=True)"
   ]
  },
  {
   "cell_type": "code",
   "execution_count": 138,
   "id": "2b97068b-de00-43c8-a915-c90b5f6907cf",
   "metadata": {},
   "outputs": [],
   "source": [
    "#Column: unnamed:_22\n",
    "\n",
    "sharks_df.drop('unnamed:_22', axis=1, inplace=True)"
   ]
  },
  {
   "cell_type": "code",
   "execution_count": 139,
   "id": "ee2d61ac-566b-4e75-a5bd-9516f39cdab9",
   "metadata": {},
   "outputs": [
    {
     "data": {
      "text/html": [
       "<div>\n",
       "<style scoped>\n",
       "    .dataframe tbody tr th:only-of-type {\n",
       "        vertical-align: middle;\n",
       "    }\n",
       "\n",
       "    .dataframe tbody tr th {\n",
       "        vertical-align: top;\n",
       "    }\n",
       "\n",
       "    .dataframe thead th {\n",
       "        text-align: right;\n",
       "    }\n",
       "</style>\n",
       "<table border=\"1\" class=\"dataframe\">\n",
       "  <thead>\n",
       "    <tr style=\"text-align: right;\">\n",
       "      <th></th>\n",
       "      <th>date</th>\n",
       "      <th>year</th>\n",
       "      <th>type</th>\n",
       "      <th>country</th>\n",
       "      <th>state</th>\n",
       "      <th>location</th>\n",
       "      <th>activity</th>\n",
       "      <th>sex</th>\n",
       "      <th>age</th>\n",
       "      <th>species_</th>\n",
       "      <th>source</th>\n",
       "      <th>month</th>\n",
       "    </tr>\n",
       "  </thead>\n",
       "  <tbody>\n",
       "    <tr>\n",
       "      <th>0</th>\n",
       "      <td>2024-03-15</td>\n",
       "      <td>2024</td>\n",
       "      <td>Unprovoked</td>\n",
       "      <td>AUSTRALIA</td>\n",
       "      <td>QUEENSLAND</td>\n",
       "      <td>BARGARA BEACH</td>\n",
       "      <td>Swimming</td>\n",
       "      <td>F</td>\n",
       "      <td>13</td>\n",
       "      <td>Tiger shark</td>\n",
       "      <td>Yahoo News, 3/15/2024</td>\n",
       "      <td>3</td>\n",
       "    </tr>\n",
       "    <tr>\n",
       "      <th>1</th>\n",
       "      <td>2024-03-04</td>\n",
       "      <td>2024</td>\n",
       "      <td>Unprovoked</td>\n",
       "      <td>USA</td>\n",
       "      <td>HAWAII</td>\n",
       "      <td>OLD MAN'S, WAIKIKI</td>\n",
       "      <td>Surfing</td>\n",
       "      <td>M</td>\n",
       "      <td>15</td>\n",
       "      <td>Tiger shark 8'</td>\n",
       "      <td>Surfer, 3/6/2024F</td>\n",
       "      <td>3</td>\n",
       "    </tr>\n",
       "    <tr>\n",
       "      <th>2</th>\n",
       "      <td>2024-03-02</td>\n",
       "      <td>2024</td>\n",
       "      <td>Unprovoked</td>\n",
       "      <td>USA</td>\n",
       "      <td>HAWAII</td>\n",
       "      <td>RAINBOWS, OAHU</td>\n",
       "      <td>Swimming</td>\n",
       "      <td>F</td>\n",
       "      <td>11</td>\n",
       "      <td>3' to 4' shark</td>\n",
       "      <td>Hawaii News Now, 3/4/2024</td>\n",
       "      <td>3</td>\n",
       "    </tr>\n",
       "    <tr>\n",
       "      <th>4</th>\n",
       "      <td>2024-02-14</td>\n",
       "      <td>2024</td>\n",
       "      <td>Unprovoked</td>\n",
       "      <td>INDIA</td>\n",
       "      <td>MAHARASHTRA</td>\n",
       "      <td>VAITARNA RIVER, PALGHAR DISTRICT</td>\n",
       "      <td>Fishing</td>\n",
       "      <td>M</td>\n",
       "      <td>32</td>\n",
       "      <td>Bull shark, 7'</td>\n",
       "      <td>Times of India, 2/14/2024</td>\n",
       "      <td>2</td>\n",
       "    </tr>\n",
       "    <tr>\n",
       "      <th>5</th>\n",
       "      <td>2024-02-04</td>\n",
       "      <td>2024</td>\n",
       "      <td>provoked</td>\n",
       "      <td>TRINIDAD</td>\n",
       "      <td>FLORIDA</td>\n",
       "      <td>Indefined</td>\n",
       "      <td>Spearfishing</td>\n",
       "      <td>M</td>\n",
       "      <td>15</td>\n",
       "      <td>Blacktip reef shark</td>\n",
       "      <td>Trinidad Guardian, 2/11/2014</td>\n",
       "      <td>2</td>\n",
       "    </tr>\n",
       "    <tr>\n",
       "      <th>...</th>\n",
       "      <td>...</td>\n",
       "      <td>...</td>\n",
       "      <td>...</td>\n",
       "      <td>...</td>\n",
       "      <td>...</td>\n",
       "      <td>...</td>\n",
       "      <td>...</td>\n",
       "      <td>...</td>\n",
       "      <td>...</td>\n",
       "      <td>...</td>\n",
       "      <td>...</td>\n",
       "      <td>...</td>\n",
       "    </tr>\n",
       "    <tr>\n",
       "      <th>6794</th>\n",
       "      <td>1703-03-26</td>\n",
       "      <td>1703</td>\n",
       "      <td>Unprovoked</td>\n",
       "      <td>BARBADOS</td>\n",
       "      <td>SOUTHWEST COAST</td>\n",
       "      <td>CARLISLE BAY</td>\n",
       "      <td>Swimming</td>\n",
       "      <td>M</td>\n",
       "      <td>19</td>\n",
       "      <td>NaN</td>\n",
       "      <td>W.R.Cutter, Vol.1, p.252</td>\n",
       "      <td>3</td>\n",
       "    </tr>\n",
       "    <tr>\n",
       "      <th>6888</th>\n",
       "      <td>1959-04-24</td>\n",
       "      <td>1959</td>\n",
       "      <td>Unprovoked</td>\n",
       "      <td>BERMUDA</td>\n",
       "      <td>PAGET</td>\n",
       "      <td>PAGET PARISH</td>\n",
       "      <td>Spearfishing</td>\n",
       "      <td>M</td>\n",
       "      <td>15</td>\n",
       "      <td>NaN</td>\n",
       "      <td>Mentioned in letter from L. S. Mowbray dated 4...</td>\n",
       "      <td>4</td>\n",
       "    </tr>\n",
       "    <tr>\n",
       "      <th>6930</th>\n",
       "      <td>1916-07-17</td>\n",
       "      <td>1916</td>\n",
       "      <td>Unprovoked</td>\n",
       "      <td>USA</td>\n",
       "      <td>NORTH CAROLINA</td>\n",
       "      <td>SOMEWHERE BETWEEN HATTERAS AND BEAUFORT</td>\n",
       "      <td>Swimming</td>\n",
       "      <td>M</td>\n",
       "      <td>15</td>\n",
       "      <td>NaN</td>\n",
       "      <td>C. Creswell, GSAF; Wilmington Star, 7/17/1916</td>\n",
       "      <td>7</td>\n",
       "    </tr>\n",
       "    <tr>\n",
       "      <th>6931</th>\n",
       "      <td>1913-07-19</td>\n",
       "      <td>1913</td>\n",
       "      <td>Unprovoked</td>\n",
       "      <td>SOUTH AFRICA</td>\n",
       "      <td>KWAZULU-NATAL</td>\n",
       "      <td>DURBAN</td>\n",
       "      <td>Fishing</td>\n",
       "      <td>M</td>\n",
       "      <td>15</td>\n",
       "      <td>NaN</td>\n",
       "      <td>Rural New Yorker, 7/19/1913</td>\n",
       "      <td>7</td>\n",
       "    </tr>\n",
       "    <tr>\n",
       "      <th>6932</th>\n",
       "      <td>1913-07-19</td>\n",
       "      <td>1913</td>\n",
       "      <td>Unprovoked</td>\n",
       "      <td>SOUTH AFRICA</td>\n",
       "      <td>KWAZULU-NATAL</td>\n",
       "      <td>DURBAN</td>\n",
       "      <td>Wading</td>\n",
       "      <td>M</td>\n",
       "      <td>15</td>\n",
       "      <td>NaN</td>\n",
       "      <td>Rural New Yorker, 7/19/1913</td>\n",
       "      <td>7</td>\n",
       "    </tr>\n",
       "  </tbody>\n",
       "</table>\n",
       "<p>5534 rows × 12 columns</p>\n",
       "</div>"
      ],
      "text/plain": [
       "           date  year        type       country            state  \\\n",
       "0    2024-03-15  2024  Unprovoked     AUSTRALIA       QUEENSLAND   \n",
       "1    2024-03-04  2024  Unprovoked           USA           HAWAII   \n",
       "2    2024-03-02  2024  Unprovoked           USA           HAWAII   \n",
       "4    2024-02-14  2024  Unprovoked         INDIA      MAHARASHTRA   \n",
       "5    2024-02-04  2024    provoked      TRINIDAD          FLORIDA   \n",
       "...         ...   ...         ...           ...              ...   \n",
       "6794 1703-03-26  1703  Unprovoked      BARBADOS  SOUTHWEST COAST   \n",
       "6888 1959-04-24  1959  Unprovoked       BERMUDA            PAGET   \n",
       "6930 1916-07-17  1916  Unprovoked           USA   NORTH CAROLINA   \n",
       "6931 1913-07-19  1913  Unprovoked  SOUTH AFRICA    KWAZULU-NATAL   \n",
       "6932 1913-07-19  1913  Unprovoked  SOUTH AFRICA    KWAZULU-NATAL   \n",
       "\n",
       "                                     location      activity sex  age  \\\n",
       "0                               BARGARA BEACH      Swimming   F   13   \n",
       "1                          OLD MAN'S, WAIKIKI       Surfing   M   15   \n",
       "2                              RAINBOWS, OAHU      Swimming   F   11   \n",
       "4            VAITARNA RIVER, PALGHAR DISTRICT       Fishing   M   32   \n",
       "5                                   Indefined  Spearfishing   M   15   \n",
       "...                                       ...           ...  ..  ...   \n",
       "6794                             CARLISLE BAY      Swimming   M   19   \n",
       "6888                             PAGET PARISH  Spearfishing   M   15   \n",
       "6930  SOMEWHERE BETWEEN HATTERAS AND BEAUFORT      Swimming   M   15   \n",
       "6931                                   DURBAN       Fishing   M   15   \n",
       "6932                                   DURBAN        Wading   M   15   \n",
       "\n",
       "                 species_                                             source  \\\n",
       "0             Tiger shark                              Yahoo News, 3/15/2024   \n",
       "1          Tiger shark 8'                                  Surfer, 3/6/2024F   \n",
       "2          3' to 4' shark                          Hawaii News Now, 3/4/2024   \n",
       "4          Bull shark, 7'                          Times of India, 2/14/2024   \n",
       "5     Blacktip reef shark                       Trinidad Guardian, 2/11/2014   \n",
       "...                   ...                                                ...   \n",
       "6794                  NaN                           W.R.Cutter, Vol.1, p.252   \n",
       "6888                  NaN  Mentioned in letter from L. S. Mowbray dated 4...   \n",
       "6930                  NaN     C. Creswell, GSAF; Wilmington Star, 7/17/1916    \n",
       "6931                  NaN                       Rural New Yorker, 7/19/1913    \n",
       "6932                  NaN                        Rural New Yorker, 7/19/1913   \n",
       "\n",
       "      month  \n",
       "0         3  \n",
       "1         3  \n",
       "2         3  \n",
       "4         2  \n",
       "5         2  \n",
       "...     ...  \n",
       "6794      3  \n",
       "6888      4  \n",
       "6930      7  \n",
       "6931      7  \n",
       "6932      7  \n",
       "\n",
       "[5534 rows x 12 columns]"
      ]
     },
     "execution_count": 139,
     "metadata": {},
     "output_type": "execute_result"
    }
   ],
   "source": [
    "sharks_df"
   ]
  },
  {
   "cell_type": "markdown",
   "id": "bad37fce-b87e-4bf5-b7f1-10198368a3fb",
   "metadata": {},
   "source": [
    "## Graphs"
   ]
  },
  {
   "cell_type": "code",
   "execution_count": 165,
   "id": "fa72c4c8-7589-4778-8c73-1f91ae036f01",
   "metadata": {},
   "outputs": [
    {
     "data": {
      "text/plain": [
       "Text(0.5, 1.0, 'Top 10 countries - all df')"
      ]
     },
     "execution_count": 165,
     "metadata": {},
     "output_type": "execute_result"
    },
    {
     "data": {
      "image/png": "[encoded data removed]",
      "text/plain": [
       "<Figure size 640x480 with 1 Axes>"
      ]
     },
     "metadata": {},
     "output_type": "display_data"
    }
   ],
   "source": [
    "# Bar chart - top_10_countries\n",
    "country_counts = sharks_df['country'].value_counts()                  # Count the occurrences of each country\n",
    "top_10_countries = country_counts.head(10).index                      # Top 10\n",
    "filtered_df = sharks_df[sharks_df['country'].isin(top_10_countries)]  # Filter the DataFrame to include only the top 10 countries\n",
    "sns.countplot(y='country', data=filtered_df)                          # Bar chart\n",
    "plt.title(\"Top 10 countries - all df\")"
   ]
  },
  {
   "cell_type": "code",
   "execution_count": 173,
   "id": "ca08c8c3-070f-4808-8f08-36792152468c",
   "metadata": {},
   "outputs": [
    {
     "data": {
      "text/plain": [
       "Text(0.5, 1.0, 'Top 10 countries from 2000 to 2023')"
      ]
     },
     "execution_count": 173,
     "metadata": {},
     "output_type": "execute_result"
    },
    {
     "data": {
      "image/png": "[encoded data removed]",
      "text/plain": [
       "<Figure size 640x480 with 1 Axes>"
      ]
     },
     "metadata": {},
     "output_type": "display_data"
    }
   ],
   "source": [
    "# Bar chart - top_10_countries\n",
    "country_counts = df_00_23['country'].value_counts()                  # Count the occurrences of each country\n",
    "top_10_countries = country_counts.head(10).index                      # Top 10\n",
    "filtered_df = df_00_23[df_00_23['country'].isin(top_10_countries)]  # Filter the DataFrame to include only the top 10 countries\n",
    "sns.countplot(y='country', data=filtered_df)                          # Bar chart\n",
    "plt.title(\"Top 10 countries from 2000 to 2023\")"
   ]
  },
  {
   "cell_type": "code",
   "execution_count": 175,
   "id": "3df487dc-e0a2-494d-8352-5bd6366f3f4e",
   "metadata": {},
   "outputs": [
    {
     "data": {
      "text/plain": [
       "Text(0.5, 1.0, 'MEN ARE MOSTLY ATTACKED BY SHARKS - all df')"
      ]
     },
     "execution_count": 175,
     "metadata": {},
     "output_type": "execute_result"
    },
    {
     "data": {
      "image/png": "[encoded data removed]",
      "text/plain": [
       "<Figure size 640x480 with 1 Axes>"
      ]
     },
     "metadata": {},
     "output_type": "display_data"
    }
   ],
   "source": [
    "#MEN ARE MOSTLY ATTACKED BY SHARKS\n",
    "sns.countplot(x='sex', data = sharks_df) \n",
    "\n",
    "plt.title(\"MEN ARE MOSTLY ATTACKED BY SHARKS - all df\")\n"
   ]
  },
  {
   "cell_type": "code",
   "execution_count": 177,
   "id": "2a0bbf90",
   "metadata": {},
   "outputs": [
    {
     "data": {
      "text/plain": [
       "Text(0.5, 1.0, 'MEN ARE MOSTLY ATTACKED BY SHARKS')"
      ]
     },
     "execution_count": 177,
     "metadata": {},
     "output_type": "execute_result"
    },
    {
     "data": {
      "image/png": "[encoded data removed]",
      "text/plain": [
       "<Figure size 640x480 with 1 Axes>"
      ]
     },
     "metadata": {},
     "output_type": "display_data"
    }
   ],
   "source": [
    "#MEN ARE MOSTLY ATTACKED BY SHARKS\n",
    "sns.countplot(x='sex', data = df_00_23) \n",
    "\n",
    "plt.title(\"MEN ARE MOSTLY ATTACKED BY SHARKS\")\n"
   ]
  },
  {
   "cell_type": "code",
   "execution_count": 179,
   "id": "dbd930a6-c031-4077-b2b4-d216d26798cd",
   "metadata": {},
   "outputs": [
    {
     "data": {
      "text/plain": [
       "Text(0.5, 1.0, 'MOST SHARK ATTACKS OCCUR DURING SURFING ACTIVITIES all df')"
      ]
     },
     "execution_count": 179,
     "metadata": {},
     "output_type": "execute_result"
    },
    {
     "data": {
      "image/png": "[encoded data removed]",
      "text/plain": [
       "<Figure size 640x480 with 1 Axes>"
      ]
     },
     "metadata": {},
     "output_type": "display_data"
    }
   ],
   "source": [
    "activity_counts = sharks_df['activity'].value_counts()\n",
    "top_5_activity = activity_counts.head(5).index\n",
    "filtered_top_activity = sharks_df[sharks_df['activity'].isin(top_5_activity)]\n",
    "sorted_activities = activity_counts.loc[top_5_activity].index\n",
    "sns.countplot(x='activity', data=filtered_top_activity, order=sorted_activities)\n",
    "plt.title(\"MOST SHARK ATTACKS OCCUR DURING SURFING ACTIVITIES all df\")"
   ]
  },
  {
   "cell_type": "code",
   "execution_count": 181,
   "id": "1239d5d2-2c64-46ae-ac11-cc90f2a2ec54",
   "metadata": {},
   "outputs": [
    {
     "data": {
      "text/plain": [
       "Text(0.5, 1.0, 'MOST SHARK ATTACKS OCCUR DURING SURFING ACTIVITIES ')"
      ]
     },
     "execution_count": 181,
     "metadata": {},
     "output_type": "execute_result"
    },
    {
     "data": {
      "image/png": "[encoded data removed]",
      "text/plain": [
       "<Figure size 640x480 with 1 Axes>"
      ]
     },
     "metadata": {},
     "output_type": "display_data"
    }
   ],
   "source": [
    "#MOST SHARK ATTACKS OCCUR DURING SURFING ACTIVITIES \n",
    "activity_counts = df_00_23['activity'].value_counts()                            # Count the occurrences of each country\n",
    "top_5_activity = activity_counts.head(5).index                                    # Top 10\n",
    "filtered_top_activity = df_00_23[df_00_23['activity'].isin(top_5_activity)]     # Filter the DataFrame to include only the top x\n",
    "sns.countplot(x='activity', data=filtered_top_activity)                           # Bar chart\n",
    "plt.title(\"MOST SHARK ATTACKS OCCUR DURING SURFING ACTIVITIES \")"
   ]
  },
  {
   "cell_type": "code",
   "execution_count": 183,
   "id": "89ac1714-ef5d-4c37-a7fe-cc4725d00df5",
   "metadata": {},
   "outputs": [
    {
     "data": {
      "text/plain": [
       "Text(0.5, 1.0, 'MOST SHARK ATTACKS OCCUR DURING SURFING ACTIVITIES AND ON MEN - all df')"
      ]
     },
     "execution_count": 183,
     "metadata": {},
     "output_type": "execute_result"
    },
    {
     "data": {
      "image/png": "[encoded data removed]",
      "text/plain": [
       "<Figure size 640x480 with 1 Axes>"
      ]
     },
     "metadata": {},
     "output_type": "display_data"
    }
   ],
   "source": [
    "# MOST SHARK ATTACKS OCCUR DURING SURFING ACTIVITIES AND ON MEN \n",
    "df_surfing = sharks_df[sharks_df.activity == \"Surfing\"]\n",
    "sns.countplot(x='sex', data=df_surfing) \n",
    "plt.title(\"MOST SHARK ATTACKS OCCUR DURING SURFING ACTIVITIES AND ON MEN - all df\")"
   ]
  },
  {
   "cell_type": "code",
   "execution_count": 185,
   "id": "e5031188-dfc2-4537-bf43-78d08d0a5a00",
   "metadata": {},
   "outputs": [
    {
     "data": {
      "text/plain": [
       "Text(0.5, 1.0, 'MOST SHARK ATTACKS OCCUR DURING SURFING ACTIVITIES AND ON MEN ')"
      ]
     },
     "execution_count": 185,
     "metadata": {},
     "output_type": "execute_result"
    },
    {
     "data": {
      "image/png": "[encoded data removed]",
      "text/plain": [
       "<Figure size 640x480 with 1 Axes>"
      ]
     },
     "metadata": {},
     "output_type": "display_data"
    }
   ],
   "source": [
    "# MOST SHARK ATTACKS OCCUR DURING SURFING ACTIVITIES AND ON MEN \n",
    "df_surfing = df_00_23[df_00_23.activity == \"Surfing\"]\n",
    "sns.countplot(x='sex', data=df_surfing) \n",
    "plt.title(\"MOST SHARK ATTACKS OCCUR DURING SURFING ACTIVITIES AND ON MEN \")"
   ]
  },
  {
   "cell_type": "code",
   "execution_count": 187,
   "id": "e7cffe7e-8e78-47f3-b448-84d651a36ecc",
   "metadata": {},
   "outputs": [
    {
     "data": {
      "text/html": [
       "<div>\n",
       "<style scoped>\n",
       "    .dataframe tbody tr th:only-of-type {\n",
       "        vertical-align: middle;\n",
       "    }\n",
       "\n",
       "    .dataframe tbody tr th {\n",
       "        vertical-align: top;\n",
       "    }\n",
       "\n",
       "    .dataframe thead th {\n",
       "        text-align: right;\n",
       "    }\n",
       "</style>\n",
       "<table border=\"1\" class=\"dataframe\">\n",
       "  <thead>\n",
       "    <tr style=\"text-align: right;\">\n",
       "      <th></th>\n",
       "      <th>date</th>\n",
       "      <th>year</th>\n",
       "      <th>type</th>\n",
       "      <th>country</th>\n",
       "      <th>state</th>\n",
       "      <th>location</th>\n",
       "      <th>activity</th>\n",
       "      <th>sex</th>\n",
       "      <th>age</th>\n",
       "      <th>time</th>\n",
       "      <th>...</th>\n",
       "      <th>source</th>\n",
       "      <th>pdf</th>\n",
       "      <th>href_formula</th>\n",
       "      <th>href</th>\n",
       "      <th>case_number</th>\n",
       "      <th>case_number.1</th>\n",
       "      <th>original_order</th>\n",
       "      <th>unnamed:_21</th>\n",
       "      <th>unnamed:_22</th>\n",
       "      <th>month</th>\n",
       "    </tr>\n",
       "  </thead>\n",
       "  <tbody>\n",
       "    <tr>\n",
       "      <th>0</th>\n",
       "      <td>2024-03-15</td>\n",
       "      <td>2024</td>\n",
       "      <td>Unprovoked</td>\n",
       "      <td>AUSTRALIA</td>\n",
       "      <td>QUEENSLAND</td>\n",
       "      <td>BARGARA BEACH</td>\n",
       "      <td>Swimming</td>\n",
       "      <td>F</td>\n",
       "      <td>13</td>\n",
       "      <td>16h00</td>\n",
       "      <td>...</td>\n",
       "      <td>Yahoo News, 3/15/2024</td>\n",
       "      <td>NaN</td>\n",
       "      <td>NaN</td>\n",
       "      <td>NaN</td>\n",
       "      <td>NaN</td>\n",
       "      <td>NaN</td>\n",
       "      <td>NaN</td>\n",
       "      <td>NaN</td>\n",
       "      <td>NaN</td>\n",
       "      <td>3</td>\n",
       "    </tr>\n",
       "    <tr>\n",
       "      <th>1</th>\n",
       "      <td>2024-03-04</td>\n",
       "      <td>2024</td>\n",
       "      <td>Unprovoked</td>\n",
       "      <td>USA</td>\n",
       "      <td>HAWAII</td>\n",
       "      <td>OLD MAN'S, WAIKIKI</td>\n",
       "      <td>Surfing</td>\n",
       "      <td>M</td>\n",
       "      <td>15</td>\n",
       "      <td>NaN</td>\n",
       "      <td>...</td>\n",
       "      <td>Surfer, 3/6/2024F</td>\n",
       "      <td>NaN</td>\n",
       "      <td>NaN</td>\n",
       "      <td>NaN</td>\n",
       "      <td>NaN</td>\n",
       "      <td>NaN</td>\n",
       "      <td>NaN</td>\n",
       "      <td>NaN</td>\n",
       "      <td>NaN</td>\n",
       "      <td>3</td>\n",
       "    </tr>\n",
       "    <tr>\n",
       "      <th>2</th>\n",
       "      <td>2024-03-02</td>\n",
       "      <td>2024</td>\n",
       "      <td>Unprovoked</td>\n",
       "      <td>USA</td>\n",
       "      <td>HAWAII</td>\n",
       "      <td>RAINBOWS, OAHU</td>\n",
       "      <td>Swimming</td>\n",
       "      <td>F</td>\n",
       "      <td>11</td>\n",
       "      <td>13h30</td>\n",
       "      <td>...</td>\n",
       "      <td>Hawaii News Now, 3/4/2024</td>\n",
       "      <td>NaN</td>\n",
       "      <td>NaN</td>\n",
       "      <td>NaN</td>\n",
       "      <td>NaN</td>\n",
       "      <td>NaN</td>\n",
       "      <td>NaN</td>\n",
       "      <td>NaN</td>\n",
       "      <td>NaN</td>\n",
       "      <td>3</td>\n",
       "    </tr>\n",
       "    <tr>\n",
       "      <th>4</th>\n",
       "      <td>2024-02-14</td>\n",
       "      <td>2024</td>\n",
       "      <td>Unprovoked</td>\n",
       "      <td>INDIA</td>\n",
       "      <td>MAHARASHTRA</td>\n",
       "      <td>VAITARNA RIVER, PALGHAR DISTRICT</td>\n",
       "      <td>Fishing</td>\n",
       "      <td>M</td>\n",
       "      <td>32</td>\n",
       "      <td>NaN</td>\n",
       "      <td>...</td>\n",
       "      <td>Times of India, 2/14/2024</td>\n",
       "      <td>NaN</td>\n",
       "      <td>NaN</td>\n",
       "      <td>NaN</td>\n",
       "      <td>NaN</td>\n",
       "      <td>NaN</td>\n",
       "      <td>NaN</td>\n",
       "      <td>NaN</td>\n",
       "      <td>NaN</td>\n",
       "      <td>2</td>\n",
       "    </tr>\n",
       "    <tr>\n",
       "      <th>5</th>\n",
       "      <td>2024-02-04</td>\n",
       "      <td>2024</td>\n",
       "      <td>provoked</td>\n",
       "      <td>TRINIDAD</td>\n",
       "      <td>Indefined</td>\n",
       "      <td>Indefined</td>\n",
       "      <td>Spearfishing</td>\n",
       "      <td>M</td>\n",
       "      <td>15</td>\n",
       "      <td>06h30</td>\n",
       "      <td>...</td>\n",
       "      <td>Trinidad Guardian, 2/11/2014</td>\n",
       "      <td>NaN</td>\n",
       "      <td>NaN</td>\n",
       "      <td>NaN</td>\n",
       "      <td>NaN</td>\n",
       "      <td>NaN</td>\n",
       "      <td>NaN</td>\n",
       "      <td>NaN</td>\n",
       "      <td>NaN</td>\n",
       "      <td>2</td>\n",
       "    </tr>\n",
       "    <tr>\n",
       "      <th>...</th>\n",
       "      <td>...</td>\n",
       "      <td>...</td>\n",
       "      <td>...</td>\n",
       "      <td>...</td>\n",
       "      <td>...</td>\n",
       "      <td>...</td>\n",
       "      <td>...</td>\n",
       "      <td>...</td>\n",
       "      <td>...</td>\n",
       "      <td>...</td>\n",
       "      <td>...</td>\n",
       "      <td>...</td>\n",
       "      <td>...</td>\n",
       "      <td>...</td>\n",
       "      <td>...</td>\n",
       "      <td>...</td>\n",
       "      <td>...</td>\n",
       "      <td>...</td>\n",
       "      <td>...</td>\n",
       "      <td>...</td>\n",
       "      <td>...</td>\n",
       "    </tr>\n",
       "    <tr>\n",
       "      <th>2688</th>\n",
       "      <td>2000-02-14</td>\n",
       "      <td>2000</td>\n",
       "      <td>Provoked</td>\n",
       "      <td>ENGLAND</td>\n",
       "      <td>WORCESTERSHIRE</td>\n",
       "      <td>THE FOUNTAIN PUB IN TENBURY WELLS</td>\n",
       "      <td>Feeding prawns captive</td>\n",
       "      <td>M</td>\n",
       "      <td>15</td>\n",
       "      <td>NaN</td>\n",
       "      <td>...</td>\n",
       "      <td>The Sun (London), 2/17/2000</td>\n",
       "      <td>2000.02.14-Smith.pdf</td>\n",
       "      <td>http://sharkattackfile.net/spreadsheets/pdf_di...</td>\n",
       "      <td>http://sharkattackfile.net/spreadsheets/pdf_di...</td>\n",
       "      <td>2000.02.14</td>\n",
       "      <td>2000.02.14</td>\n",
       "      <td>4254.0</td>\n",
       "      <td>NaN</td>\n",
       "      <td>NaN</td>\n",
       "      <td>2</td>\n",
       "    </tr>\n",
       "    <tr>\n",
       "      <th>2689</th>\n",
       "      <td>2000-02-03</td>\n",
       "      <td>2000</td>\n",
       "      <td>Unprovoked</td>\n",
       "      <td>NEW ZEALAND</td>\n",
       "      <td>SOUTH ISLAND</td>\n",
       "      <td>ORETI BEACH (REPORTED AS THE 4TH PERSON BITTEN...</td>\n",
       "      <td>Surfing</td>\n",
       "      <td>M</td>\n",
       "      <td>15</td>\n",
       "      <td>NaN</td>\n",
       "      <td>...</td>\n",
       "      <td>Waikato Times; Southland Times, 10/23/1999, p.1</td>\n",
       "      <td>2000.02.03-Petas.pdf</td>\n",
       "      <td>http://sharkattackfile.net/spreadsheets/pdf_di...</td>\n",
       "      <td>http://sharkattackfile.net/spreadsheets/pdf_di...</td>\n",
       "      <td>2000.02.03</td>\n",
       "      <td>2000.02.03</td>\n",
       "      <td>4253.0</td>\n",
       "      <td>NaN</td>\n",
       "      <td>NaN</td>\n",
       "      <td>2</td>\n",
       "    </tr>\n",
       "    <tr>\n",
       "      <th>2690</th>\n",
       "      <td>2000-02-01</td>\n",
       "      <td>2000</td>\n",
       "      <td>Unprovoked</td>\n",
       "      <td>AUSTRALIA</td>\n",
       "      <td>SOUTH AUSTRALIA</td>\n",
       "      <td>POINT SINCLAIR, CACTUS BEACH NEAR PENONG</td>\n",
       "      <td>Surfing</td>\n",
       "      <td>M</td>\n",
       "      <td>26</td>\n",
       "      <td>NaN</td>\n",
       "      <td>...</td>\n",
       "      <td>T. Peake, GSAF</td>\n",
       "      <td>2000.02.01-Hayes.pdf</td>\n",
       "      <td>http://sharkattackfile.net/spreadsheets/pdf_di...</td>\n",
       "      <td>http://sharkattackfile.net/spreadsheets/pdf_di...</td>\n",
       "      <td>2000.02.01</td>\n",
       "      <td>2000.02.01</td>\n",
       "      <td>4252.0</td>\n",
       "      <td>NaN</td>\n",
       "      <td>NaN</td>\n",
       "      <td>2</td>\n",
       "    </tr>\n",
       "    <tr>\n",
       "      <th>2691</th>\n",
       "      <td>2000-01-28</td>\n",
       "      <td>2000</td>\n",
       "      <td>Watercraft</td>\n",
       "      <td>REUNION</td>\n",
       "      <td>Indefined</td>\n",
       "      <td>SAINT PIERRE</td>\n",
       "      <td>Canoe 3 menboard</td>\n",
       "      <td>M</td>\n",
       "      <td>15</td>\n",
       "      <td>NaN</td>\n",
       "      <td>...</td>\n",
       "      <td>B.L. du Vendre</td>\n",
       "      <td>2000.01.28.R-Reunion.pdf</td>\n",
       "      <td>http://sharkattackfile.net/spreadsheets/pdf_di...</td>\n",
       "      <td>http://sharkattackfile.net/spreadsheets/pdf_di...</td>\n",
       "      <td>2000.01.28.R</td>\n",
       "      <td>2000.01.28.R</td>\n",
       "      <td>4251.0</td>\n",
       "      <td>NaN</td>\n",
       "      <td>NaN</td>\n",
       "      <td>1</td>\n",
       "    </tr>\n",
       "    <tr>\n",
       "      <th>2692</th>\n",
       "      <td>2000-01-05</td>\n",
       "      <td>2000</td>\n",
       "      <td>Unprovoked</td>\n",
       "      <td>THAILAND</td>\n",
       "      <td>PHANG NGA PROVINCE</td>\n",
       "      <td>PHANG NGA ISLAND</td>\n",
       "      <td>Diving</td>\n",
       "      <td>M</td>\n",
       "      <td>15</td>\n",
       "      <td>NaN</td>\n",
       "      <td>...</td>\n",
       "      <td>A. Xuereb</td>\n",
       "      <td>2000.01.05-Kahl.pdf</td>\n",
       "      <td>http://sharkattackfile.net/spreadsheets/pdf_di...</td>\n",
       "      <td>http://sharkattackfile.net/spreadsheets/pdf_di...</td>\n",
       "      <td>2000.01.05</td>\n",
       "      <td>2000.01.05</td>\n",
       "      <td>4250.0</td>\n",
       "      <td>NaN</td>\n",
       "      <td>NaN</td>\n",
       "      <td>1</td>\n",
       "    </tr>\n",
       "  </tbody>\n",
       "</table>\n",
       "<p>2489 rows × 21 columns</p>\n",
       "</div>"
      ],
      "text/plain": [
       "           date  year        type      country               state  \\\n",
       "0    2024-03-15  2024  Unprovoked    AUSTRALIA          QUEENSLAND   \n",
       "1    2024-03-04  2024  Unprovoked          USA              HAWAII   \n",
       "2    2024-03-02  2024  Unprovoked          USA              HAWAII   \n",
       "4    2024-02-14  2024  Unprovoked        INDIA         MAHARASHTRA   \n",
       "5    2024-02-04  2024    provoked     TRINIDAD           Indefined   \n",
       "...         ...   ...         ...          ...                 ...   \n",
       "2688 2000-02-14  2000    Provoked      ENGLAND      WORCESTERSHIRE   \n",
       "2689 2000-02-03  2000  Unprovoked  NEW ZEALAND        SOUTH ISLAND   \n",
       "2690 2000-02-01  2000  Unprovoked    AUSTRALIA     SOUTH AUSTRALIA   \n",
       "2691 2000-01-28  2000  Watercraft      REUNION           Indefined   \n",
       "2692 2000-01-05  2000  Unprovoked     THAILAND  PHANG NGA PROVINCE   \n",
       "\n",
       "                                               location  \\\n",
       "0                                         BARGARA BEACH   \n",
       "1                                    OLD MAN'S, WAIKIKI   \n",
       "2                                        RAINBOWS, OAHU   \n",
       "4                      VAITARNA RIVER, PALGHAR DISTRICT   \n",
       "5                                             Indefined   \n",
       "...                                                 ...   \n",
       "2688                  THE FOUNTAIN PUB IN TENBURY WELLS   \n",
       "2689  ORETI BEACH (REPORTED AS THE 4TH PERSON BITTEN...   \n",
       "2690           POINT SINCLAIR, CACTUS BEACH NEAR PENONG   \n",
       "2691                                       SAINT PIERRE   \n",
       "2692                                   PHANG NGA ISLAND   \n",
       "\n",
       "                    activity sex  age   time  ...  \\\n",
       "0                   Swimming   F   13  16h00  ...   \n",
       "1                    Surfing   M   15    NaN  ...   \n",
       "2                   Swimming   F   11  13h30  ...   \n",
       "4                    Fishing   M   32    NaN  ...   \n",
       "5               Spearfishing   M   15  06h30  ...   \n",
       "...                      ...  ..  ...    ...  ...   \n",
       "2688  Feeding prawns captive   M   15    NaN  ...   \n",
       "2689                 Surfing   M   15    NaN  ...   \n",
       "2690                 Surfing   M   26    NaN  ...   \n",
       "2691        Canoe 3 menboard   M   15    NaN  ...   \n",
       "2692                  Diving   M   15    NaN  ...   \n",
       "\n",
       "                                               source  \\\n",
       "0                               Yahoo News, 3/15/2024   \n",
       "1                                   Surfer, 3/6/2024F   \n",
       "2                           Hawaii News Now, 3/4/2024   \n",
       "4                           Times of India, 2/14/2024   \n",
       "5                        Trinidad Guardian, 2/11/2014   \n",
       "...                                               ...   \n",
       "2688                      The Sun (London), 2/17/2000   \n",
       "2689  Waikato Times; Southland Times, 10/23/1999, p.1   \n",
       "2690                                   T. Peake, GSAF   \n",
       "2691                                   B.L. du Vendre   \n",
       "2692                                        A. Xuereb   \n",
       "\n",
       "                           pdf  \\\n",
       "0                          NaN   \n",
       "1                          NaN   \n",
       "2                          NaN   \n",
       "4                          NaN   \n",
       "5                          NaN   \n",
       "...                        ...   \n",
       "2688      2000.02.14-Smith.pdf   \n",
       "2689      2000.02.03-Petas.pdf   \n",
       "2690      2000.02.01-Hayes.pdf   \n",
       "2691  2000.01.28.R-Reunion.pdf   \n",
       "2692       2000.01.05-Kahl.pdf   \n",
       "\n",
       "                                           href_formula  \\\n",
       "0                                                   NaN   \n",
       "1                                                   NaN   \n",
       "2                                                   NaN   \n",
       "4                                                   NaN   \n",
       "5                                                   NaN   \n",
       "...                                                 ...   \n",
       "2688  http://sharkattackfile.net/spreadsheets/pdf_di...   \n",
       "2689  http://sharkattackfile.net/spreadsheets/pdf_di...   \n",
       "2690  http://sharkattackfile.net/spreadsheets/pdf_di...   \n",
       "2691  http://sharkattackfile.net/spreadsheets/pdf_di...   \n",
       "2692  http://sharkattackfile.net/spreadsheets/pdf_di...   \n",
       "\n",
       "                                                   href   case_number  \\\n",
       "0                                                   NaN           NaN   \n",
       "1                                                   NaN           NaN   \n",
       "2                                                   NaN           NaN   \n",
       "4                                                   NaN           NaN   \n",
       "5                                                   NaN           NaN   \n",
       "...                                                 ...           ...   \n",
       "2688  http://sharkattackfile.net/spreadsheets/pdf_di...    2000.02.14   \n",
       "2689  http://sharkattackfile.net/spreadsheets/pdf_di...    2000.02.03   \n",
       "2690  http://sharkattackfile.net/spreadsheets/pdf_di...    2000.02.01   \n",
       "2691  http://sharkattackfile.net/spreadsheets/pdf_di...  2000.01.28.R   \n",
       "2692  http://sharkattackfile.net/spreadsheets/pdf_di...    2000.01.05   \n",
       "\n",
       "     case_number.1 original_order  unnamed:_21 unnamed:_22 month  \n",
       "0              NaN            NaN          NaN         NaN     3  \n",
       "1              NaN            NaN          NaN         NaN     3  \n",
       "2              NaN            NaN          NaN         NaN     3  \n",
       "4              NaN            NaN          NaN         NaN     2  \n",
       "5              NaN            NaN          NaN         NaN     2  \n",
       "...            ...            ...          ...         ...   ...  \n",
       "2688    2000.02.14         4254.0          NaN         NaN     2  \n",
       "2689    2000.02.03         4253.0          NaN         NaN     2  \n",
       "2690    2000.02.01         4252.0          NaN         NaN     2  \n",
       "2691  2000.01.28.R         4251.0          NaN         NaN     1  \n",
       "2692    2000.01.05         4250.0          NaN         NaN     1  \n",
       "\n",
       "[2489 rows x 21 columns]"
      ]
     },
     "execution_count": 187,
     "metadata": {},
     "output_type": "execute_result"
    }
   ],
   "source": [
    "df_00_23"
   ]
  },
  {
   "cell_type": "code",
   "execution_count": 189,
   "id": "c3aa45ba-7a98-492e-9050-90d335a3d9e9",
   "metadata": {},
   "outputs": [
    {
     "data": {
      "text/plain": [
       "Text(0.5, 1.0, 'TOP 10 BY AGE')"
      ]
     },
     "execution_count": 189,
     "metadata": {},
     "output_type": "execute_result"
    },
    {
     "data": {
      "image/png": "[encoded data removed]",
      "text/plain": [
       "<Figure size 640x480 with 1 Axes>"
      ]
     },
     "metadata": {},
     "output_type": "display_data"
    }
   ],
   "source": [
    "counts_age = sharks_df['age'].value_counts()                         # Count the occurrences of each country\n",
    "top_10_age = counts_age.head(10).index                               # Top 10\n",
    "filtered_top_age = sharks_df[sharks_df['age'].isin(top_10_age)]     # Filter the DataFrame to include only the top x\n",
    "sns.countplot(x='age', data=filtered_top_age)                       # Bar chart\n",
    "plt.title(\"TOP 10 BY AGE\")"
   ]
  },
  {
   "cell_type": "code",
   "execution_count": 191,
   "id": "f364be3f-7d48-447d-8a69-664f701f003f",
   "metadata": {},
   "outputs": [
    {
     "data": {
      "text/plain": [
       "Text(0.5, 1.0, 'MOST SHARK ATTACKS OCCUR DURING THE SUMMER - all df')"
      ]
     },
     "execution_count": 191,
     "metadata": {},
     "output_type": "execute_result"
    },
    {
     "data": {
      "image/png": "[encoded data removed]",
      "text/plain": [
       "<Figure size 640x480 with 1 Axes>"
      ]
     },
     "metadata": {},
     "output_type": "display_data"
    }
   ],
   "source": [
    "# MOST SHARK ATTACKS OCCUR DURING THE SUMMER\n",
    "sns.countplot(x ='month', data = sharks_df)     \n",
    "plt.title(\"MOST SHARK ATTACKS OCCUR DURING THE SUMMER - all df\")"
   ]
  },
  {
   "cell_type": "code",
   "execution_count": 193,
   "id": "f16445a0-cb67-4d22-a88c-ba0e6ac88791",
   "metadata": {},
   "outputs": [
    {
     "data": {
      "text/plain": [
       "Text(0.5, 1.0, 'MOST SHARK ATTACKS OCCUR DURING THE SUMMER')"
      ]
     },
     "execution_count": 193,
     "metadata": {},
     "output_type": "execute_result"
    },
    {
     "data": {
      "image/png": "[encoded data removed]",
      "text/plain": [
       "<Figure size 640x480 with 1 Axes>"
      ]
     },
     "metadata": {},
     "output_type": "display_data"
    }
   ],
   "source": [
    "# MOST SHARK ATTACKS OCCUR DURING THE SUMMER\n",
    "sns.countplot(x ='month', data = df_00_23)     \n",
    "plt.title(\"MOST SHARK ATTACKS OCCUR DURING THE SUMMER\")"
   ]
  },
  {
   "cell_type": "code",
   "execution_count": null,
   "id": "8b68a64b",
   "metadata": {},
   "outputs": [],
   "source": [
    "# GROUPING AND CHECKING HYPOTESIS // ALL DF after cleaning processes:"
   ]
  },
  {
   "cell_type": "code",
   "execution_count": null,
   "id": "8964e7f6",
   "metadata": {},
   "outputs": [],
   "source": [
    "# 1ST HYPOTESIS: MEN ARE MOSTLY ATTACKTED BY SHARKS"
   ]
  },
  {
   "cell_type": "code",
   "execution_count": null,
   "id": "7951fc36",
   "metadata": {},
   "outputs": [],
   "source": [
    "group_sex = sharks_df.groupby(\"sex\")[\"date\"].count()\n",
    "group_sex"
   ]
  },
  {
   "cell_type": "code",
   "execution_count": null,
   "id": "015b03b2",
   "metadata": {},
   "outputs": [],
   "source": [
    "# 2ND HYPOTESIS: MOST SHARK ATTACKS OCCUR DURING THE SUMMER"
   ]
  },
  {
   "cell_type": "code",
   "execution_count": null,
   "id": "4b633165",
   "metadata": {},
   "outputs": [],
   "source": [
    "group_month = sharks_df[\"month\"].value_counts()\n",
    "group_monthç\n"
   ]
  },
  {
   "cell_type": "code",
   "execution_count": null,
   "id": "fbabf278",
   "metadata": {},
   "outputs": [],
   "source": [
    "group_year = sharks_df[\"year\"].value_counts()\n",
    "group_year\n"
   ]
  },
  {
   "cell_type": "code",
   "execution_count": null,
   "id": "d47dd97f",
   "metadata": {},
   "outputs": [],
   "source": [
    "group_sex = sharks_df[\"sex\"].value_counts()\n",
    "group_sex"
   ]
  },
  {
   "cell_type": "code",
   "execution_count": null,
   "id": "5dc8badc",
   "metadata": {},
   "outputs": [],
   "source": [
    "group_month_country = sharks_df.groupby([\"month\",\"country\"])[[\"date\"]].count()\n",
    "group_month_country.max()\n",
    "max_month_country= group_month_country.idxmax()"
   ]
  },
  {
   "cell_type": "code",
   "execution_count": null,
   "id": "04f88de6",
   "metadata": {},
   "outputs": [],
   "source": [
    "group_month_country.max()"
   ]
  },
  {
   "cell_type": "code",
   "execution_count": null,
   "id": "a1dba717",
   "metadata": {},
   "outputs": [],
   "source": [
    "max_month_country"
   ]
  },
  {
   "cell_type": "code",
   "execution_count": null,
   "id": "d4ad6709",
   "metadata": {},
   "outputs": [],
   "source": [
    "# 3TH HYPOTESIS: MOST SHARK ATTACKS OCCUR DURING SURFING ACTIVITIES \n",
    "# 3.1 HYPOTESIS: MOST SHARK ATTACKS OCCUR DURING SURFING ACTIVITIES AND ON MEN"
   ]
  },
  {
   "cell_type": "code",
   "execution_count": null,
   "id": "f58f42d4",
   "metadata": {},
   "outputs": [],
   "source": [
    "group_activity = sharks_df[\"activity\"].value_counts()\n",
    "group_activity"
   ]
  },
  {
   "cell_type": "code",
   "execution_count": null,
   "id": "bd55b5d0",
   "metadata": {},
   "outputs": [],
   "source": [
    "group_acti_sex = sharks_df.groupby([\"activity\",\"sex\"])[[\"date\"]].count()"
   ]
  },
  {
   "cell_type": "code",
   "execution_count": null,
   "id": "dec64bfb",
   "metadata": {},
   "outputs": [],
   "source": [
    "group_acti_sex.max()"
   ]
  },
  {
   "cell_type": "code",
   "execution_count": null,
   "id": "91237173",
   "metadata": {},
   "outputs": [],
   "source": [
    "max_group_acti_sex = group_acti_sex.idxmax()\n",
    "max_group_acti_sex  "
   ]
  },
  {
   "cell_type": "code",
   "execution_count": null,
   "id": "5430ebd5",
   "metadata": {},
   "outputs": [],
   "source": [
    "# 4RD HYPOTESIS: YONG PEOPLE, SPECIALLY IN AN AGE RANGE BETWEEN 18 AND 35 ARE MOSTLY ATTACKED BY SHARKS\n",
    "# 4.1 HYPOTESIS: YONG PEOPLE, SPECIALLY MEN IN AN AGE RANGE BETWEEN 18 AND 35 ARE MOSTLY ATTACKED BY SHARKS"
   ]
  },
  {
   "cell_type": "code",
   "execution_count": null,
   "id": "073bcd60",
   "metadata": {},
   "outputs": [],
   "source": [
    "group_age = sharks_df[\"age\"].value_counts()\n",
    "group_age"
   ]
  },
  {
   "cell_type": "code",
   "execution_count": null,
   "id": "a933223b",
   "metadata": {},
   "outputs": [],
   "source": [
    "group_age_sex = sharks_df.groupby([\"age\",\"sex\"])[[\"date\"]].count()"
   ]
  },
  {
   "cell_type": "code",
   "execution_count": null,
   "id": "680c6b67",
   "metadata": {},
   "outputs": [],
   "source": [
    "max_group_age_sex = group_age_sex.idxmax()\n",
    "max_group_age_sex"
   ]
  },
  {
   "cell_type": "code",
   "execution_count": null,
   "id": "1e4b04e3",
   "metadata": {},
   "outputs": [],
   "source": [
    "group_age_sex.max()"
   ]
  },
  {
   "cell_type": "code",
   "execution_count": null,
   "id": "1d3bdb33",
   "metadata": {},
   "outputs": [],
   "source": [
    "group_age_sex = group_age_sex.sort_values(by='date', ascending=False)\n",
    "group_age_sex"
   ]
  },
  {
   "cell_type": "code",
   "execution_count": null,
   "id": "12f35ee2",
   "metadata": {},
   "outputs": [],
   "source": [
    "group_species = sharks_df[\"species_\"].value_counts()\n",
    "group_species "
   ]
  },
  {
   "cell_type": "code",
   "execution_count": null,
   "id": "b27d36ac",
   "metadata": {},
   "outputs": [],
   "source": [
    "group_species = sharks_df[\"type\"].value_counts()\n",
    "group_species "
   ]
  },
  {
   "cell_type": "code",
   "execution_count": null,
   "id": "fbf8415f",
   "metadata": {},
   "outputs": [],
   "source": [
    "sharks_df[\"age\"].replace(\"provoked\",\"Provoked\", inplace=True)"
   ]
  },
  {
   "cell_type": "code",
   "execution_count": null,
   "id": "cdd7eb16",
   "metadata": {},
   "outputs": [],
   "source": [
    "group_species = sharks_df[\"type\"].value_counts()\n",
    "group_species "
   ]
  },
  {
   "cell_type": "code",
   "execution_count": null,
   "id": "e2cf6eaa",
   "metadata": {},
   "outputs": [],
   "source": [
    "# Ploting the total of years...\n",
    "# We decided to focus our attention on the last 23 years, from 2000.\n",
    "# GROUPING AND CHECKING HYPOTESIS FROM 2000 TO 2023"
   ]
  },
  {
   "cell_type": "code",
   "execution_count": 169,
   "id": "fbb63a82",
   "metadata": {},
   "outputs": [],
   "source": [
    "df_00_23 = sharks_df[sharks_df.year >= 2000]"
   ]
  },
  {
   "cell_type": "code",
   "execution_count": 171,
   "id": "04f9308c",
   "metadata": {},
   "outputs": [
    {
     "data": {
      "text/html": [
       "<div>\n",
       "<style scoped>\n",
       "    .dataframe tbody tr th:only-of-type {\n",
       "        vertical-align: middle;\n",
       "    }\n",
       "\n",
       "    .dataframe tbody tr th {\n",
       "        vertical-align: top;\n",
       "    }\n",
       "\n",
       "    .dataframe thead th {\n",
       "        text-align: right;\n",
       "    }\n",
       "</style>\n",
       "<table border=\"1\" class=\"dataframe\">\n",
       "  <thead>\n",
       "    <tr style=\"text-align: right;\">\n",
       "      <th></th>\n",
       "      <th>date</th>\n",
       "      <th>year</th>\n",
       "      <th>type</th>\n",
       "      <th>country</th>\n",
       "      <th>state</th>\n",
       "      <th>location</th>\n",
       "      <th>activity</th>\n",
       "      <th>sex</th>\n",
       "      <th>age</th>\n",
       "      <th>time</th>\n",
       "      <th>...</th>\n",
       "      <th>source</th>\n",
       "      <th>pdf</th>\n",
       "      <th>href_formula</th>\n",
       "      <th>href</th>\n",
       "      <th>case_number</th>\n",
       "      <th>case_number.1</th>\n",
       "      <th>original_order</th>\n",
       "      <th>unnamed:_21</th>\n",
       "      <th>unnamed:_22</th>\n",
       "      <th>month</th>\n",
       "    </tr>\n",
       "  </thead>\n",
       "  <tbody>\n",
       "    <tr>\n",
       "      <th>0</th>\n",
       "      <td>2024-03-15</td>\n",
       "      <td>2024</td>\n",
       "      <td>Unprovoked</td>\n",
       "      <td>AUSTRALIA</td>\n",
       "      <td>QUEENSLAND</td>\n",
       "      <td>BARGARA BEACH</td>\n",
       "      <td>Swimming</td>\n",
       "      <td>F</td>\n",
       "      <td>13</td>\n",
       "      <td>16h00</td>\n",
       "      <td>...</td>\n",
       "      <td>Yahoo News, 3/15/2024</td>\n",
       "      <td>NaN</td>\n",
       "      <td>NaN</td>\n",
       "      <td>NaN</td>\n",
       "      <td>NaN</td>\n",
       "      <td>NaN</td>\n",
       "      <td>NaN</td>\n",
       "      <td>NaN</td>\n",
       "      <td>NaN</td>\n",
       "      <td>3</td>\n",
       "    </tr>\n",
       "    <tr>\n",
       "      <th>1</th>\n",
       "      <td>2024-03-04</td>\n",
       "      <td>2024</td>\n",
       "      <td>Unprovoked</td>\n",
       "      <td>USA</td>\n",
       "      <td>HAWAII</td>\n",
       "      <td>OLD MAN'S, WAIKIKI</td>\n",
       "      <td>Surfing</td>\n",
       "      <td>M</td>\n",
       "      <td>15</td>\n",
       "      <td>NaN</td>\n",
       "      <td>...</td>\n",
       "      <td>Surfer, 3/6/2024F</td>\n",
       "      <td>NaN</td>\n",
       "      <td>NaN</td>\n",
       "      <td>NaN</td>\n",
       "      <td>NaN</td>\n",
       "      <td>NaN</td>\n",
       "      <td>NaN</td>\n",
       "      <td>NaN</td>\n",
       "      <td>NaN</td>\n",
       "      <td>3</td>\n",
       "    </tr>\n",
       "    <tr>\n",
       "      <th>2</th>\n",
       "      <td>2024-03-02</td>\n",
       "      <td>2024</td>\n",
       "      <td>Unprovoked</td>\n",
       "      <td>USA</td>\n",
       "      <td>HAWAII</td>\n",
       "      <td>RAINBOWS, OAHU</td>\n",
       "      <td>Swimming</td>\n",
       "      <td>F</td>\n",
       "      <td>11</td>\n",
       "      <td>13h30</td>\n",
       "      <td>...</td>\n",
       "      <td>Hawaii News Now, 3/4/2024</td>\n",
       "      <td>NaN</td>\n",
       "      <td>NaN</td>\n",
       "      <td>NaN</td>\n",
       "      <td>NaN</td>\n",
       "      <td>NaN</td>\n",
       "      <td>NaN</td>\n",
       "      <td>NaN</td>\n",
       "      <td>NaN</td>\n",
       "      <td>3</td>\n",
       "    </tr>\n",
       "    <tr>\n",
       "      <th>4</th>\n",
       "      <td>2024-02-14</td>\n",
       "      <td>2024</td>\n",
       "      <td>Unprovoked</td>\n",
       "      <td>INDIA</td>\n",
       "      <td>MAHARASHTRA</td>\n",
       "      <td>VAITARNA RIVER, PALGHAR DISTRICT</td>\n",
       "      <td>Fishing</td>\n",
       "      <td>M</td>\n",
       "      <td>32</td>\n",
       "      <td>NaN</td>\n",
       "      <td>...</td>\n",
       "      <td>Times of India, 2/14/2024</td>\n",
       "      <td>NaN</td>\n",
       "      <td>NaN</td>\n",
       "      <td>NaN</td>\n",
       "      <td>NaN</td>\n",
       "      <td>NaN</td>\n",
       "      <td>NaN</td>\n",
       "      <td>NaN</td>\n",
       "      <td>NaN</td>\n",
       "      <td>2</td>\n",
       "    </tr>\n",
       "    <tr>\n",
       "      <th>5</th>\n",
       "      <td>2024-02-04</td>\n",
       "      <td>2024</td>\n",
       "      <td>provoked</td>\n",
       "      <td>TRINIDAD</td>\n",
       "      <td>Indefined</td>\n",
       "      <td>Indefined</td>\n",
       "      <td>Spearfishing</td>\n",
       "      <td>M</td>\n",
       "      <td>15</td>\n",
       "      <td>06h30</td>\n",
       "      <td>...</td>\n",
       "      <td>Trinidad Guardian, 2/11/2014</td>\n",
       "      <td>NaN</td>\n",
       "      <td>NaN</td>\n",
       "      <td>NaN</td>\n",
       "      <td>NaN</td>\n",
       "      <td>NaN</td>\n",
       "      <td>NaN</td>\n",
       "      <td>NaN</td>\n",
       "      <td>NaN</td>\n",
       "      <td>2</td>\n",
       "    </tr>\n",
       "    <tr>\n",
       "      <th>...</th>\n",
       "      <td>...</td>\n",
       "      <td>...</td>\n",
       "      <td>...</td>\n",
       "      <td>...</td>\n",
       "      <td>...</td>\n",
       "      <td>...</td>\n",
       "      <td>...</td>\n",
       "      <td>...</td>\n",
       "      <td>...</td>\n",
       "      <td>...</td>\n",
       "      <td>...</td>\n",
       "      <td>...</td>\n",
       "      <td>...</td>\n",
       "      <td>...</td>\n",
       "      <td>...</td>\n",
       "      <td>...</td>\n",
       "      <td>...</td>\n",
       "      <td>...</td>\n",
       "      <td>...</td>\n",
       "      <td>...</td>\n",
       "      <td>...</td>\n",
       "    </tr>\n",
       "    <tr>\n",
       "      <th>2688</th>\n",
       "      <td>2000-02-14</td>\n",
       "      <td>2000</td>\n",
       "      <td>Provoked</td>\n",
       "      <td>ENGLAND</td>\n",
       "      <td>WORCESTERSHIRE</td>\n",
       "      <td>THE FOUNTAIN PUB IN TENBURY WELLS</td>\n",
       "      <td>Feeding prawns captive</td>\n",
       "      <td>M</td>\n",
       "      <td>15</td>\n",
       "      <td>NaN</td>\n",
       "      <td>...</td>\n",
       "      <td>The Sun (London), 2/17/2000</td>\n",
       "      <td>2000.02.14-Smith.pdf</td>\n",
       "      <td>http://sharkattackfile.net/spreadsheets/pdf_di...</td>\n",
       "      <td>http://sharkattackfile.net/spreadsheets/pdf_di...</td>\n",
       "      <td>2000.02.14</td>\n",
       "      <td>2000.02.14</td>\n",
       "      <td>4254.0</td>\n",
       "      <td>NaN</td>\n",
       "      <td>NaN</td>\n",
       "      <td>2</td>\n",
       "    </tr>\n",
       "    <tr>\n",
       "      <th>2689</th>\n",
       "      <td>2000-02-03</td>\n",
       "      <td>2000</td>\n",
       "      <td>Unprovoked</td>\n",
       "      <td>NEW ZEALAND</td>\n",
       "      <td>SOUTH ISLAND</td>\n",
       "      <td>ORETI BEACH (REPORTED AS THE 4TH PERSON BITTEN...</td>\n",
       "      <td>Surfing</td>\n",
       "      <td>M</td>\n",
       "      <td>15</td>\n",
       "      <td>NaN</td>\n",
       "      <td>...</td>\n",
       "      <td>Waikato Times; Southland Times, 10/23/1999, p.1</td>\n",
       "      <td>2000.02.03-Petas.pdf</td>\n",
       "      <td>http://sharkattackfile.net/spreadsheets/pdf_di...</td>\n",
       "      <td>http://sharkattackfile.net/spreadsheets/pdf_di...</td>\n",
       "      <td>2000.02.03</td>\n",
       "      <td>2000.02.03</td>\n",
       "      <td>4253.0</td>\n",
       "      <td>NaN</td>\n",
       "      <td>NaN</td>\n",
       "      <td>2</td>\n",
       "    </tr>\n",
       "    <tr>\n",
       "      <th>2690</th>\n",
       "      <td>2000-02-01</td>\n",
       "      <td>2000</td>\n",
       "      <td>Unprovoked</td>\n",
       "      <td>AUSTRALIA</td>\n",
       "      <td>SOUTH AUSTRALIA</td>\n",
       "      <td>POINT SINCLAIR, CACTUS BEACH NEAR PENONG</td>\n",
       "      <td>Surfing</td>\n",
       "      <td>M</td>\n",
       "      <td>26</td>\n",
       "      <td>NaN</td>\n",
       "      <td>...</td>\n",
       "      <td>T. Peake, GSAF</td>\n",
       "      <td>2000.02.01-Hayes.pdf</td>\n",
       "      <td>http://sharkattackfile.net/spreadsheets/pdf_di...</td>\n",
       "      <td>http://sharkattackfile.net/spreadsheets/pdf_di...</td>\n",
       "      <td>2000.02.01</td>\n",
       "      <td>2000.02.01</td>\n",
       "      <td>4252.0</td>\n",
       "      <td>NaN</td>\n",
       "      <td>NaN</td>\n",
       "      <td>2</td>\n",
       "    </tr>\n",
       "    <tr>\n",
       "      <th>2691</th>\n",
       "      <td>2000-01-28</td>\n",
       "      <td>2000</td>\n",
       "      <td>Watercraft</td>\n",
       "      <td>REUNION</td>\n",
       "      <td>Indefined</td>\n",
       "      <td>SAINT PIERRE</td>\n",
       "      <td>Canoe 3 menboard</td>\n",
       "      <td>M</td>\n",
       "      <td>15</td>\n",
       "      <td>NaN</td>\n",
       "      <td>...</td>\n",
       "      <td>B.L. du Vendre</td>\n",
       "      <td>2000.01.28.R-Reunion.pdf</td>\n",
       "      <td>http://sharkattackfile.net/spreadsheets/pdf_di...</td>\n",
       "      <td>http://sharkattackfile.net/spreadsheets/pdf_di...</td>\n",
       "      <td>2000.01.28.R</td>\n",
       "      <td>2000.01.28.R</td>\n",
       "      <td>4251.0</td>\n",
       "      <td>NaN</td>\n",
       "      <td>NaN</td>\n",
       "      <td>1</td>\n",
       "    </tr>\n",
       "    <tr>\n",
       "      <th>2692</th>\n",
       "      <td>2000-01-05</td>\n",
       "      <td>2000</td>\n",
       "      <td>Unprovoked</td>\n",
       "      <td>THAILAND</td>\n",
       "      <td>PHANG NGA PROVINCE</td>\n",
       "      <td>PHANG NGA ISLAND</td>\n",
       "      <td>Diving</td>\n",
       "      <td>M</td>\n",
       "      <td>15</td>\n",
       "      <td>NaN</td>\n",
       "      <td>...</td>\n",
       "      <td>A. Xuereb</td>\n",
       "      <td>2000.01.05-Kahl.pdf</td>\n",
       "      <td>http://sharkattackfile.net/spreadsheets/pdf_di...</td>\n",
       "      <td>http://sharkattackfile.net/spreadsheets/pdf_di...</td>\n",
       "      <td>2000.01.05</td>\n",
       "      <td>2000.01.05</td>\n",
       "      <td>4250.0</td>\n",
       "      <td>NaN</td>\n",
       "      <td>NaN</td>\n",
       "      <td>1</td>\n",
       "    </tr>\n",
       "  </tbody>\n",
       "</table>\n",
       "<p>2489 rows × 21 columns</p>\n",
       "</div>"
      ],
      "text/plain": [
       "           date  year        type      country               state  \\\n",
       "0    2024-03-15  2024  Unprovoked    AUSTRALIA          QUEENSLAND   \n",
       "1    2024-03-04  2024  Unprovoked          USA              HAWAII   \n",
       "2    2024-03-02  2024  Unprovoked          USA              HAWAII   \n",
       "4    2024-02-14  2024  Unprovoked        INDIA         MAHARASHTRA   \n",
       "5    2024-02-04  2024    provoked     TRINIDAD           Indefined   \n",
       "...         ...   ...         ...          ...                 ...   \n",
       "2688 2000-02-14  2000    Provoked      ENGLAND      WORCESTERSHIRE   \n",
       "2689 2000-02-03  2000  Unprovoked  NEW ZEALAND        SOUTH ISLAND   \n",
       "2690 2000-02-01  2000  Unprovoked    AUSTRALIA     SOUTH AUSTRALIA   \n",
       "2691 2000-01-28  2000  Watercraft      REUNION           Indefined   \n",
       "2692 2000-01-05  2000  Unprovoked     THAILAND  PHANG NGA PROVINCE   \n",
       "\n",
       "                                               location  \\\n",
       "0                                         BARGARA BEACH   \n",
       "1                                    OLD MAN'S, WAIKIKI   \n",
       "2                                        RAINBOWS, OAHU   \n",
       "4                      VAITARNA RIVER, PALGHAR DISTRICT   \n",
       "5                                             Indefined   \n",
       "...                                                 ...   \n",
       "2688                  THE FOUNTAIN PUB IN TENBURY WELLS   \n",
       "2689  ORETI BEACH (REPORTED AS THE 4TH PERSON BITTEN...   \n",
       "2690           POINT SINCLAIR, CACTUS BEACH NEAR PENONG   \n",
       "2691                                       SAINT PIERRE   \n",
       "2692                                   PHANG NGA ISLAND   \n",
       "\n",
       "                    activity sex  age   time  ...  \\\n",
       "0                   Swimming   F   13  16h00  ...   \n",
       "1                    Surfing   M   15    NaN  ...   \n",
       "2                   Swimming   F   11  13h30  ...   \n",
       "4                    Fishing   M   32    NaN  ...   \n",
       "5               Spearfishing   M   15  06h30  ...   \n",
       "...                      ...  ..  ...    ...  ...   \n",
       "2688  Feeding prawns captive   M   15    NaN  ...   \n",
       "2689                 Surfing   M   15    NaN  ...   \n",
       "2690                 Surfing   M   26    NaN  ...   \n",
       "2691        Canoe 3 menboard   M   15    NaN  ...   \n",
       "2692                  Diving   M   15    NaN  ...   \n",
       "\n",
       "                                               source  \\\n",
       "0                               Yahoo News, 3/15/2024   \n",
       "1                                   Surfer, 3/6/2024F   \n",
       "2                           Hawaii News Now, 3/4/2024   \n",
       "4                           Times of India, 2/14/2024   \n",
       "5                        Trinidad Guardian, 2/11/2014   \n",
       "...                                               ...   \n",
       "2688                      The Sun (London), 2/17/2000   \n",
       "2689  Waikato Times; Southland Times, 10/23/1999, p.1   \n",
       "2690                                   T. Peake, GSAF   \n",
       "2691                                   B.L. du Vendre   \n",
       "2692                                        A. Xuereb   \n",
       "\n",
       "                           pdf  \\\n",
       "0                          NaN   \n",
       "1                          NaN   \n",
       "2                          NaN   \n",
       "4                          NaN   \n",
       "5                          NaN   \n",
       "...                        ...   \n",
       "2688      2000.02.14-Smith.pdf   \n",
       "2689      2000.02.03-Petas.pdf   \n",
       "2690      2000.02.01-Hayes.pdf   \n",
       "2691  2000.01.28.R-Reunion.pdf   \n",
       "2692       2000.01.05-Kahl.pdf   \n",
       "\n",
       "                                           href_formula  \\\n",
       "0                                                   NaN   \n",
       "1                                                   NaN   \n",
       "2                                                   NaN   \n",
       "4                                                   NaN   \n",
       "5                                                   NaN   \n",
       "...                                                 ...   \n",
       "2688  http://sharkattackfile.net/spreadsheets/pdf_di...   \n",
       "2689  http://sharkattackfile.net/spreadsheets/pdf_di...   \n",
       "2690  http://sharkattackfile.net/spreadsheets/pdf_di...   \n",
       "2691  http://sharkattackfile.net/spreadsheets/pdf_di...   \n",
       "2692  http://sharkattackfile.net/spreadsheets/pdf_di...   \n",
       "\n",
       "                                                   href   case_number  \\\n",
       "0                                                   NaN           NaN   \n",
       "1                                                   NaN           NaN   \n",
       "2                                                   NaN           NaN   \n",
       "4                                                   NaN           NaN   \n",
       "5                                                   NaN           NaN   \n",
       "...                                                 ...           ...   \n",
       "2688  http://sharkattackfile.net/spreadsheets/pdf_di...    2000.02.14   \n",
       "2689  http://sharkattackfile.net/spreadsheets/pdf_di...    2000.02.03   \n",
       "2690  http://sharkattackfile.net/spreadsheets/pdf_di...    2000.02.01   \n",
       "2691  http://sharkattackfile.net/spreadsheets/pdf_di...  2000.01.28.R   \n",
       "2692  http://sharkattackfile.net/spreadsheets/pdf_di...    2000.01.05   \n",
       "\n",
       "     case_number.1 original_order  unnamed:_21 unnamed:_22 month  \n",
       "0              NaN            NaN          NaN         NaN     3  \n",
       "1              NaN            NaN          NaN         NaN     3  \n",
       "2              NaN            NaN          NaN         NaN     3  \n",
       "4              NaN            NaN          NaN         NaN     2  \n",
       "5              NaN            NaN          NaN         NaN     2  \n",
       "...            ...            ...          ...         ...   ...  \n",
       "2688    2000.02.14         4254.0          NaN         NaN     2  \n",
       "2689    2000.02.03         4253.0          NaN         NaN     2  \n",
       "2690    2000.02.01         4252.0          NaN         NaN     2  \n",
       "2691  2000.01.28.R         4251.0          NaN         NaN     1  \n",
       "2692    2000.01.05         4250.0          NaN         NaN     1  \n",
       "\n",
       "[2489 rows x 21 columns]"
      ]
     },
     "execution_count": 171,
     "metadata": {},
     "output_type": "execute_result"
    }
   ],
   "source": [
    "df_00_23"
   ]
  },
  {
   "cell_type": "code",
   "execution_count": null,
   "id": "75c5efb3",
   "metadata": {},
   "outputs": [],
   "source": [
    "sharks_df.year.isna().sum()"
   ]
  },
  {
   "cell_type": "code",
   "execution_count": null,
   "id": "38df9c58",
   "metadata": {},
   "outputs": [],
   "source": [
    "# 1ST HYPOTESIS: MEN ARE MOSTLY ATTACKTED BY SHARKS, FROM 2000 TO 2023"
   ]
  },
  {
   "cell_type": "code",
   "execution_count": null,
   "id": "ec416091",
   "metadata": {},
   "outputs": [],
   "source": [
    "group_sex = df_00_23[\"sex\"].value_counts()\n",
    "group_sex"
   ]
  },
  {
   "cell_type": "code",
   "execution_count": null,
   "id": "4cb026f0",
   "metadata": {},
   "outputs": [],
   "source": [
    "# 2ND HYPOTESIS: MOST SHARK ATTACKS OCCUR DURING THE SUMMER, FROM 2000 TO 2023"
   ]
  },
  {
   "cell_type": "code",
   "execution_count": null,
   "id": "3e42e6d2",
   "metadata": {},
   "outputs": [],
   "source": [
    "group_month = df_00_23[\"month\"].value_counts()\n",
    "group_month"
   ]
  },
  {
   "cell_type": "code",
   "execution_count": null,
   "id": "9111dbc8",
   "metadata": {},
   "outputs": [],
   "source": [
    "group_sex = df_00_23[\"sex\"].value_counts()\n",
    "group_sex"
   ]
  },
  {
   "cell_type": "code",
   "execution_count": null,
   "id": "a778d209",
   "metadata": {},
   "outputs": [],
   "source": [
    "group_month_country = df_00_23.groupby([\"month\",\"country\"])[[\"date\"]].count()\n",
    "group_month_country.max()\n",
    "max_month_country= group_month_country.idxmax()"
   ]
  },
  {
   "cell_type": "code",
   "execution_count": null,
   "id": "77a8cafb",
   "metadata": {},
   "outputs": [],
   "source": [
    "group_month_country.max()"
   ]
  },
  {
   "cell_type": "code",
   "execution_count": null,
   "id": "9788cae8",
   "metadata": {},
   "outputs": [],
   "source": [
    "max_month_country"
   ]
  },
  {
   "cell_type": "code",
   "execution_count": null,
   "id": "c41c68a9",
   "metadata": {},
   "outputs": [],
   "source": [
    "# 3TH HYPOTESIS: MOST SHARK ATTACKS OCCUR DURING SURFING ACTIVITIES , FROM 2000 TO 2023\n",
    "# 3.1 HYPOTESIS: MOST SHARK ATTACKS OCCUR DURING SURFING ACTIVITIES AND ON MEN , FROM 2000 TO 2023"
   ]
  },
  {
   "cell_type": "code",
   "execution_count": null,
   "id": "e6420f27",
   "metadata": {},
   "outputs": [],
   "source": [
    "group_activity = df_00_23[\"activity\"].value_counts()\n",
    "group_activity"
   ]
  },
  {
   "cell_type": "code",
   "execution_count": null,
   "id": "61a2c998",
   "metadata": {},
   "outputs": [],
   "source": [
    "group_acti_sex = df_00_23.groupby([\"activity\",\"sex\"])[[\"date\"]].count()"
   ]
  },
  {
   "cell_type": "code",
   "execution_count": null,
   "id": "80cf3813",
   "metadata": {},
   "outputs": [],
   "source": [
    "group_acti_sex.idxmax()"
   ]
  },
  {
   "cell_type": "code",
   "execution_count": null,
   "id": "1d748474",
   "metadata": {},
   "outputs": [],
   "source": [
    "# 4RD HYPOTESIS: YONG PEOPLE, SPECIALLY IN AN AGE RANGE BETWEEN 18 AND 35 ARE MOSTLY ATTACKED BY SHARKS, FROM 2000 TO 2023\n",
    "# 4.1 HYPOTESIS: YONG PEOPLE, SPECIALLY MEN IN AN AGE RANGE BETWEEN 18 AND 35 ARE MOSTLY ATTACKED BY SHARKS, FROM 2000 TO 2023"
   ]
  },
  {
   "cell_type": "code",
   "execution_count": null,
   "id": "b27ce210",
   "metadata": {},
   "outputs": [],
   "source": [
    "group_age = df_00_23[\"age\"].value_counts()\n",
    "group_age"
   ]
  },
  {
   "cell_type": "code",
   "execution_count": null,
   "id": "17081ef3",
   "metadata": {},
   "outputs": [],
   "source": [
    "group_age_sex = df_00_23.groupby([\"age\",\"sex\"])[[\"date\"]].count()"
   ]
  },
  {
   "cell_type": "code",
   "execution_count": null,
   "id": "2124b63c",
   "metadata": {},
   "outputs": [],
   "source": [
    "max_group_age_sex = group_age_sex.idxmax()\n",
    "max_group_age_sex"
   ]
  },
  {
   "cell_type": "code",
   "execution_count": null,
   "id": "70579a59",
   "metadata": {},
   "outputs": [],
   "source": [
    "group_age_sex.max()"
   ]
  },
  {
   "cell_type": "code",
   "execution_count": null,
   "id": "a645963a",
   "metadata": {},
   "outputs": [],
   "source": [
    "group_age_sex = group_age_sex.sort_values(by='date', ascending=False)\n",
    "group_age_sex"
   ]
  },
  {
   "cell_type": "code",
   "execution_count": null,
   "id": "2f37d809",
   "metadata": {},
   "outputs": [],
   "source": [
    "group_species = df_00_23[\"species_\"].value_counts()\n",
    "group_species "
   ]
  },
  {
   "cell_type": "code",
   "execution_count": null,
   "id": "c67ca2d0",
   "metadata": {},
   "outputs": [],
   "source": [
    "group_species = df_00_23[\"type\"].value_counts()\n",
    "group_species "
   ]
  },
  {
   "cell_type": "code",
   "execution_count": null,
   "id": "edb6213f",
   "metadata": {
    "scrolled": true
   },
   "outputs": [],
   "source": [
    "group_species = df_00_23[\"type\"].value_counts()\n",
    "group_species "
   ]
  }
 ],
 "metadata": {
  "colab": {
   "provenance": []
  },
  "kernelspec": {
   "display_name": "Python 3 (ipykernel)",
   "language": "python",
   "name": "python3"
  },
  "language_info": {
   "codemirror_mode": {
    "name": "ipython",
    "version": 3
   },
   "file_extension": ".py",
   "mimetype": "text/x-python",
   "name": "python",
   "nbconvert_exporter": "python",
   "pygments_lexer": "ipython3",
   "version": "3.11.7"
  }
 },
 "nbformat": 4,
 "nbformat_minor": 5
}
