{
 "cells": [
  {
   "cell_type": "code",
   "execution_count": 2,
   "id": "d0ec897b",
   "metadata": {},
   "outputs": [
    {
     "name": "stdout",
     "output_type": "stream",
     "text": [
      "Found email addresses:\n",
      "juan.perez@example.com\n",
      "maria.suarez@anotherdomain.org\n",
      "feedback@example.net\n"
     ]
    }
   ],
   "source": [
    "import re\n",
    "\n",
    "# Sample text\n",
    "text = \"\"\"\n",
    "Hi, you can contact me at juan.perez@example.com or at maria.suarez@anotherdomain.org for more information.\n",
    "You can also send feedback to feedback@example.net.\n",
    "\"\"\"\n",
    "\n",
    "# Regex pattern for matching email addresses\n",
    "pattern = r'[a-zA-Z0-9._%+-]+@[a-zA-Z0-9.-]+\\.[a-zA-Z]{2,}'\n",
    "\n",
    "# Find all matches in the text\n",
    "matches = re.findall(pattern, text)\n",
    "\n",
    "# Display results\n",
    "print(\"Found email addresses:\")\n",
    "for email in matches:\n",
    "    print(email)"
   ]
  },
  {
   "cell_type": "markdown",
   "id": "3d87ac80",
   "metadata": {},
   "source": [
    "## Basic List of Regex Components\n",
    ".: Matches any single character except a newline.\n",
    "^: Matches the start of a string.\n",
    "$: Matches the end of a string.\n",
    "*: Matches the preceding element zero or more times.\n",
    "+: Matches the preceding element one or more times.\n",
    "?: Matches the preceding element zero or one time.\n",
    "{n}: Matches exactly n occurrences of the preceding element.\n",
    "{n,}: Matches n or more occurrences of the preceding element.\n",
    "{n,m}: Matches at least n and at most m occurrences of the preceding element.\n",
    "|: Represents a logical OR (alternation). For example, a|b matches either 'a' or 'b'.\n",
    "[]: Matches any one character inside the square brackets. For instance, [abc] matches 'a', 'b', or 'c'.\n",
    "(): Groups patterns and saves the matches. For example, (abc) treats 'abc' as a single unit."
   ]
  },
  {
   "cell_type": "markdown",
   "id": "4183820c",
   "metadata": {},
   "source": [
    "## Special Sequences\n",
    "\\d: Matches any digit (equivalent to [0-9]).\n",
    "\\D: Matches any non-digit.\n",
    "\\w: Matches any word character (letters, digits, and underscore) \n",
    "    (equivalent to [a-zA-Z0-9_]).\n",
    "\\W: Matches any non-word character.\n",
    "\\s: Matches any whitespace character (spaces, tabs, line breaks).\n",
    "\\S: Matches any non-whitespace character."
   ]
  },
  {
   "cell_type": "markdown",
   "id": "32adab70",
   "metadata": {},
   "source": [
    "## Examples of Use\n",
    "\n",
    ". (dot)\n",
    "Pattern: a.c\n",
    "Matches: abc, aoc, a-c (any character between a and c)\n",
    "\n",
    "^ (caret)\n",
    "Pattern: ^Hello\n",
    "Matches: Hello only if it is at the start of a string\n",
    "\n",
    "$ (dollar)\n",
    "Pattern: goodbye$\n",
    "Matches: goodbye only if it is at the end of a string\n",
    "* (asterisk)\n",
    "\n",
    "Pattern: ba*\n",
    "Matches: b, ba, baa, baaa (zero or more a characters)\n",
    "\n",
    "+ (plus)\n",
    "Pattern: ba+\n",
    "Matches: ba, baa, baaa (one or more a characters)\n",
    "\n",
    "? (question mark)\n",
    "Pattern: ba?\n",
    "Matches: b, ba (zero or one a character)\n",
    "\n",
    "{n} (exactly n)\n",
    "Pattern: a{3}\n",
    "Matches: aaa (exactly three a characters)\n",
    "\n",
    "{n,} (at least n)\n",
    "Pattern: a{2,}\n",
    "Matches: aa, aaa, aaaa (two or more a characters)\n",
    "\n",
    "{n,m} (between n and m)\n",
    "Pattern: a{2,3}\n",
    "Matches: aa, aaa (between two and three a characters)\n",
    "\n",
    "| (alternation)\n",
    "Pattern: a|b\n",
    "Matches: a, b (either a or b)\n",
    "\n",
    "[] (character set)\n",
    "Pattern: [abc]\n",
    "Matches: a, b, c (any one character inside the brackets)\n",
    "\n",
    "() (grouping)\n",
    "Pattern: (abc)\n",
    "Matches: abc (treats abc as a single unit)"
   ]
  },
  {
   "cell_type": "code",
   "execution_count": 13,
   "id": "23687834",
   "metadata": {},
   "outputs": [],
   "source": [
    "# Matches typical email addresses. Example: user@example.com\n",
    "email_address_pattern = r\"[A-Za-z0-9._%+-]+@[A-Za-z0-9.-]+\\.[A-Za-z]{2,}\"\n"
   ]
  },
  {
   "cell_type": "code",
   "execution_count": 16,
   "id": "6a082fae",
   "metadata": {},
   "outputs": [],
   "source": [
    "#Matches phone numbers in various formats, including international formats. Example: +1-800-555-5555\n",
    "\n",
    "phone_number_pattern = r\"\\+?\\d{1,4}?[-.\\s]?\\(?\\d{1,3}?\\)?[-.\\s]?\\d{1,4}[-.\\s]?\\d{1,4}[-.\\s]?\\d{1,9}\""
   ]
  },
  {
   "cell_type": "code",
   "execution_count": 15,
   "id": "80321702",
   "metadata": {},
   "outputs": [],
   "source": [
    "#Matches HTTP and HTTPS URLs. Example: https://www.example.com/path\n",
    "URL_pattern = r\"https?://(?:[-\\w.]|(?:%[\\da-fA-F]{2}))+(/[^\\s]*)?\""
   ]
  },
  {
   "cell_type": "code",
   "execution_count": 17,
   "id": "dfbb113f",
   "metadata": {},
   "outputs": [],
   "source": [
    "#Matches dates in formats like YYYY-MM-DD or MM/DD/YYYY. Example: 2023-10-07, 10/07/2023\n",
    "dates_pattern = r\"\\d{4}-\\d{2}-\\d{2}|\\d{2}/\\d{2}/\\d{4}\""
   ]
  },
  {
   "cell_type": "code",
   "execution_count": 18,
   "id": "24192d90",
   "metadata": {},
   "outputs": [],
   "source": [
    "#Matches times in 24-hour format. Example: 14:30, 03:15\n",
    "hour24_pattern = r\"([01]?[0-9]|2[0-3]):[0-5][0-9]\""
   ]
  },
  {
   "cell_type": "code",
   "execution_count": 19,
   "id": "011da197",
   "metadata": {},
   "outputs": [],
   "source": [
    "#Matches IPv4 addresses. Example: 192.168.0.1\n",
    "IP_pattern = r\"\\b\\d{1,3}\\.\\d{1,3}\\.\\d{1,3}\\.\\d{1,3}\\b\""
   ]
  },
  {
   "cell_type": "code",
   "execution_count": 20,
   "id": "8ad3e474",
   "metadata": {},
   "outputs": [],
   "source": [
    "#Matches words made up of alphanumeric characters and underscores. Example: data_analysis\n",
    "words_pattern = r\"\\b\\w+\\b\""
   ]
  },
  {
   "cell_type": "code",
   "execution_count": 21,
   "id": "22aae192",
   "metadata": {},
   "outputs": [
    {
     "name": "stdout",
     "output_type": "stream",
     "text": [
      "Emails found: ['support@example.com', 'info@example.org']\n",
      "Dates found: ['2023-10-07', '10/07/2023']\n",
      "URLs found: ['']\n"
     ]
    }
   ],
   "source": [
    "import re\n",
    "\n",
    "# Sample text\n",
    "text = \"\"\"\n",
    "Please contact us at support@example.com on 2023-10-07.\n",
    "Visit our website at https://www.example.com.\n",
    "Our alternate email is info@example.org, and we also have a promo ending on 10/07/2023.\n",
    "\"\"\"\n",
    "\n",
    "# Regex patterns\n",
    "email_pattern = r'[A-Za-z0-9._%+-]+@[A-Za-z0-9.-]+\\.[A-Za-z]{2,}'\n",
    "date_pattern  = r'\\d{4}-\\d{2}-\\d{2}|\\d{2}/\\d{2}/\\d{4}'\n",
    "url_pattern   = r'https?://(?:[-\\w.]|(?:%[\\da-fA-F]{2}))+(/[^\\s]*)?'\n",
    "\n",
    "# Find all matches\n",
    "emails = re.findall(email_pattern, text)\n",
    "dates  = re.findall(date_pattern, text)\n",
    "urls   = re.findall(url_pattern, text)\n",
    "\n",
    "# Display results\n",
    "print(\"Emails found:\", emails)\n",
    "print(\"Dates found:\", dates)\n",
    "print(\"URLs found:\", urls)"
   ]
  },
  {
   "cell_type": "code",
   "execution_count": null,
   "id": "2323a421",
   "metadata": {},
   "outputs": [],
   "source": [
    "\\d{4}-\\d{2}-\\d{2}\n",
    "#1. Matching Dates in YYYY-MM-DD Format; Example: 2023-10-07"
   ]
  },
  {
   "cell_type": "code",
   "execution_count": null,
   "id": "8cc23f4e",
   "metadata": {},
   "outputs": [],
   "source": [
    "\\d{2}/\\d{2}/\\d{4}\n",
    "#2. Matching Dates in MM/DD/YYYY Format; Example: 10/07/2023"
   ]
  },
  {
   "cell_type": "code",
   "execution_count": null,
   "id": "b752fc54",
   "metadata": {},
   "outputs": [],
   "source": [
    "\\d{2}-\\d{2}-\\d{4}\n",
    "#3. Matching Dates in DD-MM-YYYY Format; Example: 07-10-2023"
   ]
  },
  {
   "cell_type": "code",
   "execution_count": null,
   "id": "7f212b0b",
   "metadata": {},
   "outputs": [],
   "source": [
    "\\b(?:Jan(?:uary)?|Feb(?:ruary)?|Mar(?:ch)?|Apr(?:il)?|May|Jun(?:e)?|Jul(?:y)?|Aug(?:ust)?|Sep(?:tember)?|Oct(?:ober)?|Nov(?:ember)?|Dec(?:ember)?) \\d{1,2}, \\d{4}\n",
    "#4. Matching Dates in Month Day, Year Format; Example: October 7, 2023"
   ]
  },
  {
   "cell_type": "code",
   "execution_count": null,
   "id": "479cf5df",
   "metadata": {},
   "outputs": [],
   "source": [
    "\\b\\d{1,2} (?:Jan(?:uary)?|Feb(?:ruary)?|Mar(?:ch)?|Apr(?:il)?|May|Jun(?:e)?|Jul(?:y)?|Aug(?:ust)?|Sep(?:tember)?|Oct(?:ober)?|Nov(?:ember)?|Dec(?:ember)?) \\d{4}\n",
    "# 5. Matching Dates in Day Month Year Format; Example: 7 October 2023"
   ]
  },
  {
   "cell_type": "code",
   "execution_count": null,
   "id": "6d7d05ed",
   "metadata": {},
   "outputs": [],
   "source": [
    "\\d{4}/\\d{2}/\\d{2}\n",
    "# 6. Matching Dates in YYYY/MM/DD Format; Example: 2023/10/07"
   ]
  },
  {
   "cell_type": "code",
   "execution_count": null,
   "id": "650522d8",
   "metadata": {},
   "outputs": [],
   "source": [
    "\\d{2}/\\d{2}/\\d{4}\n",
    "#7. Matching Dates in DD/MM/YYYY Format; Example: 07/10/2023"
   ]
  },
  {
   "cell_type": "code",
   "execution_count": null,
   "id": "86431d4d",
   "metadata": {},
   "outputs": [],
   "source": [
    "\\d{4}-\\d{2}-\\d{2}T\\d{2}:\\d{2}:\\d{2}(?:\\.\\d+)?(?:Z|[+-]\\d{2}:\\d{2})\n",
    "#8. Matching Dates as ISO 8601 (Extended Format)"
   ]
  }
 ],
 "metadata": {
  "kernelspec": {
   "display_name": "Python 3 (ipykernel)",
   "language": "python",
   "name": "python3"
  },
  "language_info": {
   "codemirror_mode": {
    "name": "ipython",
    "version": 3
   },
   "file_extension": ".py",
   "mimetype": "text/x-python",
   "name": "python",
   "nbconvert_exporter": "python",
   "pygments_lexer": "ipython3",
   "version": "3.11.7"
  }
 },
 "nbformat": 4,
 "nbformat_minor": 5
}
